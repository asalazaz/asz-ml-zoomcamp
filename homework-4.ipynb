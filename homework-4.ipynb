{
 "cells": [
  {
   "cell_type": "markdown",
   "id": "bd49dc25",
   "metadata": {},
   "source": [
    "# HW-4 - Evaluation\n",
    "In this homework, we will use the Car price dataset. Download it from here:\n",
    "\n",
    "https://raw.githubusercontent.com/alexeygrigorev/mlbookcamp-code/master/chapter-02-car-price/data.csv\n",
    "\n",
    "We'll keep working with the `MSRP` variable, and we'll transform it to a classification task."
   ]
  },
  {
   "cell_type": "markdown",
   "id": "292a3aa0",
   "metadata": {},
   "source": [
    "## 1. Import the libraries"
   ]
  },
  {
   "cell_type": "code",
   "execution_count": 1,
   "id": "261f2ecb",
   "metadata": {},
   "outputs": [],
   "source": [
    "import pandas as pd\n",
    "import numpy as np\n",
    "import seaborn as sns\n",
    "import matplotlib.pyplot as plt\n",
    "import seaborn as sns\n",
    "from sklearn.model_selection import train_test_split\n",
    "from sklearn.feature_extraction import DictVectorizer\n",
    "from sklearn.linear_model import LogisticRegression\n",
    "from sklearn.metrics import roc_auc_score\n",
    "from sklearn.metrics import roc_curve\n",
    "from sklearn.model_selection import KFold"
   ]
  },
  {
   "cell_type": "markdown",
   "id": "e5c2bf1f",
   "metadata": {},
   "source": [
    "## 2. Import dataset\n",
    "\n",
    "For the rest of the homework, you'll need to use only these columns:\n",
    "\n",
    "`[Make, Model, Year, Engine HP, Engine Cylinders, Transmission Type, Vehicle Style, highway MPG, city mpg, MSRP]`"
   ]
  },
  {
   "cell_type": "markdown",
   "id": "baee4b96",
   "metadata": {},
   "source": [
    "### Data Preparation\n",
    "\n",
    "- Keep only the columns above."
   ]
  },
  {
   "cell_type": "code",
   "execution_count": 2,
   "id": "2612c0c1",
   "metadata": {},
   "outputs": [],
   "source": [
    "cols = [\"Make\", \"Model\", \"Year\", \"Engine HP\", \"Engine Cylinders\", \"Transmission Type\",\n",
    "        \"Vehicle Style\", \"highway MPG\", \"city mpg\", \"MSRP\"]\n",
    "url = \"https://raw.githubusercontent.com/alexeygrigorev/mlbookcamp-code/master/chapter-02-car-price/data.csv\"\n",
    "df = pd.read_csv(url, usecols=cols)"
   ]
  },
  {
   "cell_type": "markdown",
   "id": "faac9016",
   "metadata": {},
   "source": [
    "- Lowercase the column names and replace spaces with underscores."
   ]
  },
  {
   "cell_type": "code",
   "execution_count": 3,
   "id": "52ddd15b",
   "metadata": {},
   "outputs": [
    {
     "data": {
      "text/plain": [
       "Index(['make', 'model', 'year', 'engine_hp', 'engine_cylinders',\n",
       "       'transmission_type', 'vehicle_style', 'highway_mpg', 'city_mpg',\n",
       "       'msrp'],\n",
       "      dtype='object')"
      ]
     },
     "execution_count": 3,
     "metadata": {},
     "output_type": "execute_result"
    }
   ],
   "source": [
    "df.columns = df.columns.str.replace(' ', '_').str.lower()\n",
    "df.columns"
   ]
  },
  {
   "cell_type": "markdown",
   "id": "37ebf0c4",
   "metadata": {},
   "source": [
    "- Fill the missing values with **0**."
   ]
  },
  {
   "cell_type": "code",
   "execution_count": 4,
   "id": "b6ef4206",
   "metadata": {},
   "outputs": [
    {
     "data": {
      "text/plain": [
       "make                  0\n",
       "model                 0\n",
       "year                  0\n",
       "engine_hp            69\n",
       "engine_cylinders     30\n",
       "transmission_type     0\n",
       "vehicle_style         0\n",
       "highway_mpg           0\n",
       "city_mpg              0\n",
       "msrp                  0\n",
       "dtype: int64"
      ]
     },
     "execution_count": 4,
     "metadata": {},
     "output_type": "execute_result"
    }
   ],
   "source": [
    "df.isna().sum()"
   ]
  },
  {
   "cell_type": "code",
   "execution_count": 5,
   "id": "d560f1c5",
   "metadata": {},
   "outputs": [],
   "source": [
    "df[\"engine_hp\"].fillna(value=0, inplace=True)\n",
    "df[\"engine_cylinders\"].fillna(value=0, inplace=True)"
   ]
  },
  {
   "cell_type": "markdown",
   "id": "50941fe8",
   "metadata": {},
   "source": [
    "- Make the price binary (1 if above the average, 0 otherwise) - this will be our target variable `above_average`."
   ]
  },
  {
   "cell_type": "code",
   "execution_count": 6,
   "id": "6c7bd8a9",
   "metadata": {},
   "outputs": [],
   "source": [
    "df.rename(columns = {'msrp':'price'}, inplace = True)"
   ]
  },
  {
   "cell_type": "code",
   "execution_count": 7,
   "id": "5a45c0c2",
   "metadata": {},
   "outputs": [
    {
     "data": {
      "text/html": [
       "<div>\n",
       "<style scoped>\n",
       "    .dataframe tbody tr th:only-of-type {\n",
       "        vertical-align: middle;\n",
       "    }\n",
       "\n",
       "    .dataframe tbody tr th {\n",
       "        vertical-align: top;\n",
       "    }\n",
       "\n",
       "    .dataframe thead th {\n",
       "        text-align: right;\n",
       "    }\n",
       "</style>\n",
       "<table border=\"1\" class=\"dataframe\">\n",
       "  <thead>\n",
       "    <tr style=\"text-align: right;\">\n",
       "      <th></th>\n",
       "      <th>make</th>\n",
       "      <th>model</th>\n",
       "      <th>year</th>\n",
       "      <th>engine_hp</th>\n",
       "      <th>engine_cylinders</th>\n",
       "      <th>transmission_type</th>\n",
       "      <th>vehicle_style</th>\n",
       "      <th>highway_mpg</th>\n",
       "      <th>city_mpg</th>\n",
       "      <th>price</th>\n",
       "      <th>above_average</th>\n",
       "    </tr>\n",
       "  </thead>\n",
       "  <tbody>\n",
       "    <tr>\n",
       "      <th>0</th>\n",
       "      <td>BMW</td>\n",
       "      <td>1 Series M</td>\n",
       "      <td>2011</td>\n",
       "      <td>335.0</td>\n",
       "      <td>6.0</td>\n",
       "      <td>MANUAL</td>\n",
       "      <td>Coupe</td>\n",
       "      <td>26</td>\n",
       "      <td>19</td>\n",
       "      <td>46135</td>\n",
       "      <td>1</td>\n",
       "    </tr>\n",
       "    <tr>\n",
       "      <th>1</th>\n",
       "      <td>BMW</td>\n",
       "      <td>1 Series</td>\n",
       "      <td>2011</td>\n",
       "      <td>300.0</td>\n",
       "      <td>6.0</td>\n",
       "      <td>MANUAL</td>\n",
       "      <td>Convertible</td>\n",
       "      <td>28</td>\n",
       "      <td>19</td>\n",
       "      <td>40650</td>\n",
       "      <td>1</td>\n",
       "    </tr>\n",
       "    <tr>\n",
       "      <th>2</th>\n",
       "      <td>BMW</td>\n",
       "      <td>1 Series</td>\n",
       "      <td>2011</td>\n",
       "      <td>300.0</td>\n",
       "      <td>6.0</td>\n",
       "      <td>MANUAL</td>\n",
       "      <td>Coupe</td>\n",
       "      <td>28</td>\n",
       "      <td>20</td>\n",
       "      <td>36350</td>\n",
       "      <td>0</td>\n",
       "    </tr>\n",
       "    <tr>\n",
       "      <th>3</th>\n",
       "      <td>BMW</td>\n",
       "      <td>1 Series</td>\n",
       "      <td>2011</td>\n",
       "      <td>230.0</td>\n",
       "      <td>6.0</td>\n",
       "      <td>MANUAL</td>\n",
       "      <td>Coupe</td>\n",
       "      <td>28</td>\n",
       "      <td>18</td>\n",
       "      <td>29450</td>\n",
       "      <td>0</td>\n",
       "    </tr>\n",
       "    <tr>\n",
       "      <th>4</th>\n",
       "      <td>BMW</td>\n",
       "      <td>1 Series</td>\n",
       "      <td>2011</td>\n",
       "      <td>230.0</td>\n",
       "      <td>6.0</td>\n",
       "      <td>MANUAL</td>\n",
       "      <td>Convertible</td>\n",
       "      <td>28</td>\n",
       "      <td>18</td>\n",
       "      <td>34500</td>\n",
       "      <td>0</td>\n",
       "    </tr>\n",
       "  </tbody>\n",
       "</table>\n",
       "</div>"
      ],
      "text/plain": [
       "  make       model  year  engine_hp  engine_cylinders transmission_type  \\\n",
       "0  BMW  1 Series M  2011      335.0               6.0            MANUAL   \n",
       "1  BMW    1 Series  2011      300.0               6.0            MANUAL   \n",
       "2  BMW    1 Series  2011      300.0               6.0            MANUAL   \n",
       "3  BMW    1 Series  2011      230.0               6.0            MANUAL   \n",
       "4  BMW    1 Series  2011      230.0               6.0            MANUAL   \n",
       "\n",
       "  vehicle_style  highway_mpg  city_mpg  price  above_average  \n",
       "0         Coupe           26        19  46135              1  \n",
       "1   Convertible           28        19  40650              1  \n",
       "2         Coupe           28        20  36350              0  \n",
       "3         Coupe           28        18  29450              0  \n",
       "4   Convertible           28        18  34500              0  "
      ]
     },
     "execution_count": 7,
     "metadata": {},
     "output_type": "execute_result"
    }
   ],
   "source": [
    "mean = df[\"price\"].mean()\n",
    "df[\"above_average\"] = np.where(df[\"price\"]>=mean, 1, 0)\n",
    "df.head()"
   ]
  },
  {
   "cell_type": "code",
   "execution_count": 8,
   "id": "13720c63",
   "metadata": {},
   "outputs": [],
   "source": [
    "dff = df.copy()\n",
    "df = df.drop(\"price\", axis=1)"
   ]
  },
  {
   "cell_type": "markdown",
   "id": "bc914a75",
   "metadata": {},
   "source": [
    "- Split the data into 3 parts: train/validation/test with 60% / 20% / 20% distribution. Use `train_test_split` function for that with `random_state=1`."
   ]
  },
  {
   "cell_type": "code",
   "execution_count": 9,
   "id": "bfafedeb",
   "metadata": {},
   "outputs": [],
   "source": [
    "dff_train, df_test = train_test_split(df, test_size=0.2, random_state=1)\n",
    "df_train, df_val = train_test_split(dff_train, test_size=0.25, random_state=1)\n",
    "\n",
    "df_train = df_train.reset_index(drop=True)\n",
    "df_val = df_val.reset_index(drop=True)\n",
    "df_test = df_test.reset_index(drop=True)\n",
    "\n",
    "y_train = df_train[\"above_average\"]\n",
    "y_val = df_val[\"above_average\"]\n",
    "y_test = df_test[\"above_average\"]\n",
    "\n",
    "del df_train[\"above_average\"]\n",
    "del df_val[\"above_average\"]\n",
    "del df_test[\"above_average\"]"
   ]
  },
  {
   "cell_type": "markdown",
   "id": "321a9a80",
   "metadata": {},
   "source": [
    "## Question 1: ROC AUC feature importance\n",
    "\n",
    "ROC AUC could also be used to evaluate feature importance of numerical variables.\n",
    "\n",
    "Let's do that:\n",
    "- For each numerical variable, use it as score and compute AUC with the `above_average` variable.\n",
    "- Use the **training** dataset for that.\n",
    "\n",
    "If your AUC is < 0.5, invert this variable by putting \"**-**\" in front:\n",
    "\n",
    "(e.g. `-df_train['engine_hp']`)\n",
    "\n",
    "AUC can go below 0.5 if the variable is negatively correlated with the target varialble. You can change the direction of the correlation by negating this variable — then negative correlation becomes positive.\n",
    "\n",
    "Which numerical variable (among the following 4) has the **highest** AUC? \\\n",
    "<u>**`engine_hp`**</u> \\\n",
    "`engine_cylinders` \\\n",
    "`highway_mpg` \\\n",
    "`city_mpg`\n"
   ]
  },
  {
   "cell_type": "code",
   "execution_count": 10,
   "id": "2a2f52de",
   "metadata": {},
   "outputs": [],
   "source": [
    "# Numerical varaibles\n",
    "num_cols = ['engine_hp', 'engine_cylinders', 'highway_mpg', 'city_mpg']"
   ]
  },
  {
   "cell_type": "code",
   "execution_count": 11,
   "id": "40c61408",
   "metadata": {},
   "outputs": [
    {
     "name": "stdout",
     "output_type": "stream",
     "text": [
      "engine_hp: auc=0.917\n",
      "engine_cylinders: auc=0.766\n",
      "highway_mpg: auc=0.633\n",
      "city_mpg: auc=0.673\n"
     ]
    }
   ],
   "source": [
    "for col in num_cols:\n",
    "    auc = roc_auc_score(y_train, df_train[col])\n",
    "    if auc < 0.5:\n",
    "        auc = roc_auc_score(y_train, -df_train[col])\n",
    "    print(f'{col}: auc={round(auc,3)}')"
   ]
  },
  {
   "cell_type": "markdown",
   "id": "eb262d93",
   "metadata": {},
   "source": [
    "- Which numerical variable has the **highest** AUC? = **`engine_hp`**"
   ]
  },
  {
   "cell_type": "code",
   "execution_count": 12,
   "id": "d683c105",
   "metadata": {},
   "outputs": [
    {
     "data": {
      "image/png": "[encoded data removed]",
      "text/plain": [
       "<Figure size 300x300 with 1 Axes>"
      ]
     },
     "metadata": {},
     "output_type": "display_data"
    }
   ],
   "source": [
    "# Plotting the ROC curve\n",
    "plt.figure(figsize=(3, 3))\n",
    "\n",
    "fpr, tpr, _ = roc_curve(y_train, df_train[\"engine_hp\"])\n",
    "plt.plot(fpr, tpr, label='+engine_hp')\n",
    "\n",
    "fpr, tpr, _ = roc_curve(y_train, -df_train[\"engine_hp\"])\n",
    "plt.plot(fpr, tpr, label='-engine_hp')\n",
    "\n",
    "plt.plot([0, 1], [0, 1], color='grey', linestyle='--')\n",
    "\n",
    "plt.legend()\n",
    "plt.show()"
   ]
  },
  {
   "cell_type": "markdown",
   "id": "8e501048",
   "metadata": {},
   "source": [
    "## Question 2: Training the model\n",
    "\n",
    "Apply **one-hot-encoding** using `DictVectorizer` and train the logistic regression with these parameters:\n",
    "\n",
    "`LogisticRegression(solver='liblinear', C=1.0, max_iter=1000)`\n",
    "\n",
    "What's the **AUC** of this model on the **validation** dataset? (round to 3 digits) \\\n",
    "`0.678` \\\n",
    "`0.779` \\\n",
    "`0.878` \\\n",
    "<u>**`0.979`**</u>"
   ]
  },
  {
   "cell_type": "code",
   "execution_count": 13,
   "id": "60b83fee",
   "metadata": {},
   "outputs": [
    {
     "data": {
      "text/plain": [
       "['make',\n",
       " 'model',\n",
       " 'year',\n",
       " 'engine_hp',\n",
       " 'engine_cylinders',\n",
       " 'transmission_type',\n",
       " 'vehicle_style',\n",
       " 'highway_mpg',\n",
       " 'city_mpg']"
      ]
     },
     "execution_count": 13,
     "metadata": {},
     "output_type": "execute_result"
    }
   ],
   "source": [
    "all_cols = df_train.columns.to_list()\n",
    "all_cols"
   ]
  },
  {
   "cell_type": "code",
   "execution_count": 14,
   "id": "7363d418",
   "metadata": {},
   "outputs": [],
   "source": [
    "# Dictionary for the df_train set\n",
    "train_dicts = df_train[all_cols].to_dict(orient='records')\n",
    "\n",
    "# Apply One-hot encoding to X_train\n",
    "dv = DictVectorizer(sparse=False)\n",
    "df_train_oh = dv.fit_transform(train_dicts)"
   ]
  },
  {
   "cell_type": "code",
   "execution_count": 15,
   "id": "82521f6a",
   "metadata": {},
   "outputs": [
    {
     "data": {
      "text/html": [
       "<style>#sk-container-id-1 {color: black;}#sk-container-id-1 pre{padding: 0;}#sk-container-id-1 div.sk-toggleable {background-color: white;}#sk-container-id-1 label.sk-toggleable__label {cursor: pointer;display: block;width: 100%;margin-bottom: 0;padding: 0.3em;box-sizing: border-box;text-align: center;}#sk-container-id-1 label.sk-toggleable__label-arrow:before {content: \"▸\";float: left;margin-right: 0.25em;color: #696969;}#sk-container-id-1 label.sk-toggleable__label-arrow:hover:before {color: black;}#sk-container-id-1 div.sk-estimator:hover label.sk-toggleable__label-arrow:before {color: black;}#sk-container-id-1 div.sk-toggleable__content {max-height: 0;max-width: 0;overflow: hidden;text-align: left;background-color: #f0f8ff;}#sk-container-id-1 div.sk-toggleable__content pre {margin: 0.2em;color: black;border-radius: 0.25em;background-color: #f0f8ff;}#sk-container-id-1 input.sk-toggleable__control:checked~div.sk-toggleable__content {max-height: 200px;max-width: 100%;overflow: auto;}#sk-container-id-1 input.sk-toggleable__control:checked~label.sk-toggleable__label-arrow:before {content: \"▾\";}#sk-container-id-1 div.sk-estimator input.sk-toggleable__control:checked~label.sk-toggleable__label {background-color: #d4ebff;}#sk-container-id-1 div.sk-label input.sk-toggleable__control:checked~label.sk-toggleable__label {background-color: #d4ebff;}#sk-container-id-1 input.sk-hidden--visually {border: 0;clip: rect(1px 1px 1px 1px);clip: rect(1px, 1px, 1px, 1px);height: 1px;margin: -1px;overflow: hidden;padding: 0;position: absolute;width: 1px;}#sk-container-id-1 div.sk-estimator {font-family: monospace;background-color: #f0f8ff;border: 1px dotted black;border-radius: 0.25em;box-sizing: border-box;margin-bottom: 0.5em;}#sk-container-id-1 div.sk-estimator:hover {background-color: #d4ebff;}#sk-container-id-1 div.sk-parallel-item::after {content: \"\";width: 100%;border-bottom: 1px solid gray;flex-grow: 1;}#sk-container-id-1 div.sk-label:hover label.sk-toggleable__label {background-color: #d4ebff;}#sk-container-id-1 div.sk-serial::before {content: \"\";position: absolute;border-left: 1px solid gray;box-sizing: border-box;top: 0;bottom: 0;left: 50%;z-index: 0;}#sk-container-id-1 div.sk-serial {display: flex;flex-direction: column;align-items: center;background-color: white;padding-right: 0.2em;padding-left: 0.2em;position: relative;}#sk-container-id-1 div.sk-item {position: relative;z-index: 1;}#sk-container-id-1 div.sk-parallel {display: flex;align-items: stretch;justify-content: center;background-color: white;position: relative;}#sk-container-id-1 div.sk-item::before, #sk-container-id-1 div.sk-parallel-item::before {content: \"\";position: absolute;border-left: 1px solid gray;box-sizing: border-box;top: 0;bottom: 0;left: 50%;z-index: -1;}#sk-container-id-1 div.sk-parallel-item {display: flex;flex-direction: column;z-index: 1;position: relative;background-color: white;}#sk-container-id-1 div.sk-parallel-item:first-child::after {align-self: flex-end;width: 50%;}#sk-container-id-1 div.sk-parallel-item:last-child::after {align-self: flex-start;width: 50%;}#sk-container-id-1 div.sk-parallel-item:only-child::after {width: 0;}#sk-container-id-1 div.sk-dashed-wrapped {border: 1px dashed gray;margin: 0 0.4em 0.5em 0.4em;box-sizing: border-box;padding-bottom: 0.4em;background-color: white;}#sk-container-id-1 div.sk-label label {font-family: monospace;font-weight: bold;display: inline-block;line-height: 1.2em;}#sk-container-id-1 div.sk-label-container {text-align: center;}#sk-container-id-1 div.sk-container {/* jupyter's `normalize.less` sets `[hidden] { display: none; }` but bootstrap.min.css set `[hidden] { display: none !important; }` so we also need the `!important` here to be able to override the default hidden behavior on the sphinx rendered scikit-learn.org. See: https://github.com/scikit-learn/scikit-learn/issues/21755 */display: inline-block !important;position: relative;}#sk-container-id-1 div.sk-text-repr-fallback {display: none;}</style><div id=\"sk-container-id-1\" class=\"sk-top-container\"><div class=\"sk-text-repr-fallback\"><pre>LogisticRegression(max_iter=1000, solver=&#x27;liblinear&#x27;)</pre><b>In a Jupyter environment, please rerun this cell to show the HTML representation or trust the notebook. <br />On GitHub, the HTML representation is unable to render, please try loading this page with nbviewer.org.</b></div><div class=\"sk-container\" hidden><div class=\"sk-item\"><div class=\"sk-estimator sk-toggleable\"><input class=\"sk-toggleable__control sk-hidden--visually\" id=\"sk-estimator-id-1\" type=\"checkbox\" checked><label for=\"sk-estimator-id-1\" class=\"sk-toggleable__label sk-toggleable__label-arrow\">LogisticRegression</label><div class=\"sk-toggleable__content\"><pre>LogisticRegression(max_iter=1000, solver=&#x27;liblinear&#x27;)</pre></div></div></div></div></div>"
      ],
      "text/plain": [
       "LogisticRegression(max_iter=1000, solver='liblinear')"
      ]
     },
     "execution_count": 15,
     "metadata": {},
     "output_type": "execute_result"
    }
   ],
   "source": [
    "# Instantiate and Fit the Model over X_train_oh\n",
    "model = LogisticRegression(solver='liblinear', C=1.0, max_iter=1000)\n",
    "model.fit(df_train_oh, y_train)"
   ]
  },
  {
   "cell_type": "code",
   "execution_count": 16,
   "id": "cf4d46e0",
   "metadata": {},
   "outputs": [],
   "source": [
    "# Apply One-hot encoding to X_val\n",
    "val_dicts = df_val[all_cols].to_dict(orient='records')\n",
    "df_val_oh = dv.transform(val_dicts)\n",
    "\n",
    "# Predict Values with 'model' on X_val_oh\n",
    "y_pred = model.predict_proba(df_val_oh)[:, 1]"
   ]
  },
  {
   "cell_type": "code",
   "execution_count": 17,
   "id": "44f16e74",
   "metadata": {},
   "outputs": [
    {
     "data": {
      "text/plain": [
       "0.979"
      ]
     },
     "execution_count": 17,
     "metadata": {},
     "output_type": "execute_result"
    }
   ],
   "source": [
    "# ROC AUC score:\n",
    "roc = roc_auc_score(y_val, y_pred)\n",
    "round(roc,3)"
   ]
  },
  {
   "cell_type": "markdown",
   "id": "0fd38e44",
   "metadata": {},
   "source": [
    "- What's the **AUC** of this model on the **validation** dataset? (round to 3 digits) = **`0.979`**"
   ]
  },
  {
   "cell_type": "markdown",
   "id": "9ecb5a4a",
   "metadata": {},
   "source": [
    "## Question 3: Precision and Recall\n",
    "\n",
    "Now let's compute precision and recall for our model.\n",
    "\n",
    "- Evaluate the model on all thresholds from **0.0** to **1.0** with step **0.01**\n",
    "- For each threshold, compute **precision** and **recall**\n",
    "- Plot them\n",
    "\n",
    "At which threshold precision and recall curves intersect? \\\n",
    "`0.28` \\\n",
    "<u>**`0.48`**</u> \\\n",
    "`0.68` \\\n",
    "`0.88`"
   ]
  },
  {
   "cell_type": "code",
   "execution_count": 18,
   "id": "b8b63c37",
   "metadata": {},
   "outputs": [
    {
     "data": {
      "text/html": [
       "<div>\n",
       "<style scoped>\n",
       "    .dataframe tbody tr th:only-of-type {\n",
       "        vertical-align: middle;\n",
       "    }\n",
       "\n",
       "    .dataframe tbody tr th {\n",
       "        vertical-align: top;\n",
       "    }\n",
       "\n",
       "    .dataframe thead th {\n",
       "        text-align: right;\n",
       "    }\n",
       "</style>\n",
       "<table border=\"1\" class=\"dataframe\">\n",
       "  <thead>\n",
       "    <tr style=\"text-align: right;\">\n",
       "      <th></th>\n",
       "      <th>threshold</th>\n",
       "      <th>tp</th>\n",
       "      <th>fp</th>\n",
       "      <th>fn</th>\n",
       "      <th>tn</th>\n",
       "    </tr>\n",
       "  </thead>\n",
       "  <tbody>\n",
       "    <tr>\n",
       "      <th>0</th>\n",
       "      <td>0.0</td>\n",
       "      <td>654</td>\n",
       "      <td>1729</td>\n",
       "      <td>0</td>\n",
       "      <td>0</td>\n",
       "    </tr>\n",
       "    <tr>\n",
       "      <th>10</th>\n",
       "      <td>0.1</td>\n",
       "      <td>644</td>\n",
       "      <td>334</td>\n",
       "      <td>10</td>\n",
       "      <td>1395</td>\n",
       "    </tr>\n",
       "    <tr>\n",
       "      <th>20</th>\n",
       "      <td>0.2</td>\n",
       "      <td>623</td>\n",
       "      <td>201</td>\n",
       "      <td>31</td>\n",
       "      <td>1528</td>\n",
       "    </tr>\n",
       "    <tr>\n",
       "      <th>30</th>\n",
       "      <td>0.3</td>\n",
       "      <td>606</td>\n",
       "      <td>144</td>\n",
       "      <td>48</td>\n",
       "      <td>1585</td>\n",
       "    </tr>\n",
       "    <tr>\n",
       "      <th>40</th>\n",
       "      <td>0.4</td>\n",
       "      <td>590</td>\n",
       "      <td>106</td>\n",
       "      <td>64</td>\n",
       "      <td>1623</td>\n",
       "    </tr>\n",
       "    <tr>\n",
       "      <th>50</th>\n",
       "      <td>0.5</td>\n",
       "      <td>570</td>\n",
       "      <td>73</td>\n",
       "      <td>84</td>\n",
       "      <td>1656</td>\n",
       "    </tr>\n",
       "    <tr>\n",
       "      <th>60</th>\n",
       "      <td>0.6</td>\n",
       "      <td>550</td>\n",
       "      <td>51</td>\n",
       "      <td>104</td>\n",
       "      <td>1678</td>\n",
       "    </tr>\n",
       "    <tr>\n",
       "      <th>70</th>\n",
       "      <td>0.7</td>\n",
       "      <td>506</td>\n",
       "      <td>30</td>\n",
       "      <td>148</td>\n",
       "      <td>1699</td>\n",
       "    </tr>\n",
       "    <tr>\n",
       "      <th>80</th>\n",
       "      <td>0.8</td>\n",
       "      <td>464</td>\n",
       "      <td>21</td>\n",
       "      <td>190</td>\n",
       "      <td>1708</td>\n",
       "    </tr>\n",
       "    <tr>\n",
       "      <th>90</th>\n",
       "      <td>0.9</td>\n",
       "      <td>376</td>\n",
       "      <td>3</td>\n",
       "      <td>278</td>\n",
       "      <td>1726</td>\n",
       "    </tr>\n",
       "    <tr>\n",
       "      <th>100</th>\n",
       "      <td>1.0</td>\n",
       "      <td>0</td>\n",
       "      <td>0</td>\n",
       "      <td>654</td>\n",
       "      <td>1729</td>\n",
       "    </tr>\n",
       "  </tbody>\n",
       "</table>\n",
       "</div>"
      ],
      "text/plain": [
       "     threshold   tp    fp   fn    tn\n",
       "0          0.0  654  1729    0     0\n",
       "10         0.1  644   334   10  1395\n",
       "20         0.2  623   201   31  1528\n",
       "30         0.3  606   144   48  1585\n",
       "40         0.4  590   106   64  1623\n",
       "50         0.5  570    73   84  1656\n",
       "60         0.6  550    51  104  1678\n",
       "70         0.7  506    30  148  1699\n",
       "80         0.8  464    21  190  1708\n",
       "90         0.9  376     3  278  1726\n",
       "100        1.0    0     0  654  1729"
      ]
     },
     "execution_count": 18,
     "metadata": {},
     "output_type": "execute_result"
    }
   ],
   "source": [
    "# Creating Confusion Matrix:\n",
    "def confusion_matrix_df(y_val, y_pred):\n",
    "    scores = []\n",
    "\n",
    "    thresholds = np.linspace(0, 1, 101)\n",
    "\n",
    "    for t in thresholds:\n",
    "        actual_positive = (y_val == 1)\n",
    "        actual_negative = (y_val == 0)\n",
    "\n",
    "        predict_positive = (y_pred >= t)\n",
    "        predict_negative = (y_pred < t)\n",
    "\n",
    "        tp = (predict_positive & actual_positive).sum()\n",
    "        tn = (predict_negative & actual_negative).sum()\n",
    "\n",
    "        fp = (predict_positive & actual_negative).sum()\n",
    "        fn = (predict_negative & actual_positive).sum()\n",
    "\n",
    "        scores.append((t, tp, fp, fn, tn))\n",
    "\n",
    "    columns = ['threshold', 'tp', 'fp', 'fn', 'tn']\n",
    "    df_scores = pd.DataFrame(scores, columns=columns)\n",
    "    \n",
    "    return df_scores\n",
    "\n",
    "\n",
    "# Use of the functions\n",
    "df_scores = confusion_matrix_df(y_val, y_pred)\n",
    "df_scores[::10]     "
   ]
  },
  {
   "cell_type": "code",
   "execution_count": 19,
   "id": "62947f2b",
   "metadata": {},
   "outputs": [],
   "source": [
    "# Add column 'p' (precision) and 'r' (recall)\n",
    "df_scores[\"p\"] = df_scores.tp / (df_scores.tp + df_scores.fp)\n",
    "df_scores[\"r\"] = df_scores.tp / (df_scores.tp + df_scores.fn)"
   ]
  },
  {
   "cell_type": "code",
   "execution_count": 20,
   "id": "44d95236",
   "metadata": {},
   "outputs": [
    {
     "data": {
      "text/html": [
       "<div>\n",
       "<style scoped>\n",
       "    .dataframe tbody tr th:only-of-type {\n",
       "        vertical-align: middle;\n",
       "    }\n",
       "\n",
       "    .dataframe tbody tr th {\n",
       "        vertical-align: top;\n",
       "    }\n",
       "\n",
       "    .dataframe thead th {\n",
       "        text-align: right;\n",
       "    }\n",
       "</style>\n",
       "<table border=\"1\" class=\"dataframe\">\n",
       "  <thead>\n",
       "    <tr style=\"text-align: right;\">\n",
       "      <th></th>\n",
       "      <th>threshold</th>\n",
       "      <th>tp</th>\n",
       "      <th>fp</th>\n",
       "      <th>fn</th>\n",
       "      <th>tn</th>\n",
       "      <th>p</th>\n",
       "      <th>r</th>\n",
       "    </tr>\n",
       "  </thead>\n",
       "  <tbody>\n",
       "    <tr>\n",
       "      <th>46</th>\n",
       "      <td>0.46</td>\n",
       "      <td>577</td>\n",
       "      <td>84</td>\n",
       "      <td>77</td>\n",
       "      <td>1645</td>\n",
       "      <td>0.872920</td>\n",
       "      <td>0.882263</td>\n",
       "    </tr>\n",
       "    <tr>\n",
       "      <th>47</th>\n",
       "      <td>0.47</td>\n",
       "      <td>575</td>\n",
       "      <td>81</td>\n",
       "      <td>79</td>\n",
       "      <td>1648</td>\n",
       "      <td>0.876524</td>\n",
       "      <td>0.879205</td>\n",
       "    </tr>\n",
       "    <tr>\n",
       "      <th>48</th>\n",
       "      <td>0.48</td>\n",
       "      <td>571</td>\n",
       "      <td>81</td>\n",
       "      <td>83</td>\n",
       "      <td>1648</td>\n",
       "      <td>0.875767</td>\n",
       "      <td>0.873089</td>\n",
       "    </tr>\n",
       "    <tr>\n",
       "      <th>49</th>\n",
       "      <td>0.49</td>\n",
       "      <td>571</td>\n",
       "      <td>80</td>\n",
       "      <td>83</td>\n",
       "      <td>1649</td>\n",
       "      <td>0.877112</td>\n",
       "      <td>0.873089</td>\n",
       "    </tr>\n",
       "  </tbody>\n",
       "</table>\n",
       "</div>"
      ],
      "text/plain": [
       "    threshold   tp  fp  fn    tn         p         r\n",
       "46       0.46  577  84  77  1645  0.872920  0.882263\n",
       "47       0.47  575  81  79  1648  0.876524  0.879205\n",
       "48       0.48  571  81  83  1648  0.875767  0.873089\n",
       "49       0.49  571  80  83  1649  0.877112  0.873089"
      ]
     },
     "execution_count": 20,
     "metadata": {},
     "output_type": "execute_result"
    }
   ],
   "source": [
    "# Filter df_scores by the difference between 'p' & 'r'\n",
    "df_scores[abs(df_scores[\"p\"] - df_scores[\"r\"]) < 0.01]"
   ]
  },
  {
   "cell_type": "code",
   "execution_count": 21,
   "id": "91e2b844",
   "metadata": {
    "scrolled": true
   },
   "outputs": [
    {
     "data": {
      "image/png": "[encoded data removed]",
      "text/plain": [
       "<Figure size 500x300 with 1 Axes>"
      ]
     },
     "metadata": {},
     "output_type": "display_data"
    }
   ],
   "source": [
    "# Plot the curves\n",
    "plt.figure(figsize=(5, 3))\n",
    "\n",
    "plt.plot(df_scores[\"threshold\"], df_scores[\"p\"], label='precision')\n",
    "plt.plot(df_scores[\"threshold\"], df_scores[\"r\"], label='recall')\n",
    "\n",
    "plt.legend()\n",
    "plt.show()"
   ]
  },
  {
   "cell_type": "markdown",
   "id": "cdc317ac",
   "metadata": {},
   "source": [
    "- At which threshold precision and recall curves intersect? = **`0.48`**"
   ]
  },
  {
   "cell_type": "markdown",
   "id": "c94aa6fd",
   "metadata": {},
   "source": [
    "## Question 4: F1 score\n",
    "\n",
    "Precision and recall are conflicting — when one grows, the other goes down. That's why they are often combined into the F1 score — a metrics that takes into account both.\n",
    "\n",
    "This is the formula for computing F1:\n",
    "\n",
    "$$ F_1 = 2 \\cdot \\cfrac{P \\cdot R}{P + R} $$\n",
    "\n",
    "Where $P$ is precision and $R$ is recall.\n",
    "\n",
    "Let's compute **F1** for all thresholds from **0.0** to **1.0** with increment **0.01**\n",
    "\n",
    "At which threshold **F1** is **maximal**? \\\n",
    "`0.12` \\\n",
    "`0.32` \\\n",
    "<u>**`0.52`**</u> \\\n",
    "`0.72`"
   ]
  },
  {
   "cell_type": "code",
   "execution_count": 22,
   "id": "b8e6ad23",
   "metadata": {},
   "outputs": [],
   "source": [
    "# Calculate F1 scores\n",
    "df_scores['f1'] = 2 * df_scores.p * df_scores.r / (df_scores.p + df_scores.r)"
   ]
  },
  {
   "cell_type": "code",
   "execution_count": 23,
   "id": "d6ba9c7f",
   "metadata": {},
   "outputs": [
    {
     "data": {
      "image/png": "[encoded data removed]",
      "text/plain": [
       "<Figure size 500x300 with 1 Axes>"
      ]
     },
     "metadata": {},
     "output_type": "display_data"
    }
   ],
   "source": [
    "# Plot F1 score\n",
    "plt.figure(figsize=(5,3))\n",
    "plt.plot(df_scores.threshold, df_scores.f1)\n",
    "plt.xticks(np.linspace(0, 1, 11))\n",
    "plt.show()"
   ]
  },
  {
   "cell_type": "code",
   "execution_count": 24,
   "id": "bf513730",
   "metadata": {},
   "outputs": [
    {
     "data": {
      "text/html": [
       "<div>\n",
       "<style scoped>\n",
       "    .dataframe tbody tr th:only-of-type {\n",
       "        vertical-align: middle;\n",
       "    }\n",
       "\n",
       "    .dataframe tbody tr th {\n",
       "        vertical-align: top;\n",
       "    }\n",
       "\n",
       "    .dataframe thead th {\n",
       "        text-align: right;\n",
       "    }\n",
       "</style>\n",
       "<table border=\"1\" class=\"dataframe\">\n",
       "  <thead>\n",
       "    <tr style=\"text-align: right;\">\n",
       "      <th></th>\n",
       "      <th>threshold</th>\n",
       "      <th>tp</th>\n",
       "      <th>fp</th>\n",
       "      <th>fn</th>\n",
       "      <th>tn</th>\n",
       "      <th>p</th>\n",
       "      <th>r</th>\n",
       "      <th>f1</th>\n",
       "    </tr>\n",
       "  </thead>\n",
       "  <tbody>\n",
       "    <tr>\n",
       "      <th>52</th>\n",
       "      <td>0.52</td>\n",
       "      <td>563</td>\n",
       "      <td>62</td>\n",
       "      <td>91</td>\n",
       "      <td>1667</td>\n",
       "      <td>0.900800</td>\n",
       "      <td>0.860856</td>\n",
       "      <td>0.880375</td>\n",
       "    </tr>\n",
       "    <tr>\n",
       "      <th>53</th>\n",
       "      <td>0.53</td>\n",
       "      <td>562</td>\n",
       "      <td>61</td>\n",
       "      <td>92</td>\n",
       "      <td>1668</td>\n",
       "      <td>0.902087</td>\n",
       "      <td>0.859327</td>\n",
       "      <td>0.880188</td>\n",
       "    </tr>\n",
       "    <tr>\n",
       "      <th>54</th>\n",
       "      <td>0.54</td>\n",
       "      <td>560</td>\n",
       "      <td>60</td>\n",
       "      <td>94</td>\n",
       "      <td>1669</td>\n",
       "      <td>0.903226</td>\n",
       "      <td>0.856269</td>\n",
       "      <td>0.879121</td>\n",
       "    </tr>\n",
       "    <tr>\n",
       "      <th>50</th>\n",
       "      <td>0.50</td>\n",
       "      <td>570</td>\n",
       "      <td>73</td>\n",
       "      <td>84</td>\n",
       "      <td>1656</td>\n",
       "      <td>0.886470</td>\n",
       "      <td>0.871560</td>\n",
       "      <td>0.878951</td>\n",
       "    </tr>\n",
       "    <tr>\n",
       "      <th>55</th>\n",
       "      <td>0.55</td>\n",
       "      <td>559</td>\n",
       "      <td>59</td>\n",
       "      <td>95</td>\n",
       "      <td>1670</td>\n",
       "      <td>0.904531</td>\n",
       "      <td>0.854740</td>\n",
       "      <td>0.878931</td>\n",
       "    </tr>\n",
       "  </tbody>\n",
       "</table>\n",
       "</div>"
      ],
      "text/plain": [
       "    threshold   tp  fp  fn    tn         p         r        f1\n",
       "52       0.52  563  62  91  1667  0.900800  0.860856  0.880375\n",
       "53       0.53  562  61  92  1668  0.902087  0.859327  0.880188\n",
       "54       0.54  560  60  94  1669  0.903226  0.856269  0.879121\n",
       "50       0.50  570  73  84  1656  0.886470  0.871560  0.878951\n",
       "55       0.55  559  59  95  1670  0.904531  0.854740  0.878931"
      ]
     },
     "execution_count": 24,
     "metadata": {},
     "output_type": "execute_result"
    }
   ],
   "source": [
    "df_scores.sort_values(by=\"f1\",ascending=False).head()"
   ]
  },
  {
   "cell_type": "markdown",
   "id": "230140b2",
   "metadata": {},
   "source": [
    "- At which threshold **F1** is **maximal**? = `0.52`"
   ]
  },
  {
   "cell_type": "markdown",
   "id": "db252acb",
   "metadata": {},
   "source": [
    "## Question 5: 5-Fold CV\n",
    "\n",
    "Use the KFold class from Scikit-Learn to evaluate our model on 5 different folds:\n",
    "\n",
    "`KFold(n_splits=5, shuffle=True, random_state=1)`\n",
    "\n",
    "- Iterate over different folds of `df_full_train`\n",
    "- Split the data into train and validation\n",
    "- Train the model on train with these parameters: `LogisticRegression(solver='liblinear', C=1.0, max_iter=1000)`\n",
    "- Use AUC to evaluate the model on validation\n",
    "\n",
    "How large is standard devidation of the scores across different folds? \\\n",
    "<u>**`0.003`**</u> \\\n",
    "`0.030` \\\n",
    "`0.090` \\\n",
    "`0.140`"
   ]
  },
  {
   "cell_type": "code",
   "execution_count": 25,
   "id": "7a985aef",
   "metadata": {},
   "outputs": [],
   "source": [
    "def train(df_train, y_train, C=1.0):\n",
    "    train_dicts = df_train[all_cols].to_dict(orient='records')\n",
    "\n",
    "    dv_kf = DictVectorizer(sparse=False)\n",
    "    X_train = dv_kf.fit_transform(train_dicts)\n",
    "\n",
    "    model_kf = LogisticRegression(solver='liblinear', C=C, max_iter=1000)\n",
    "    model_kf.fit(X_train, y_train)\n",
    "\n",
    "    return dv_kf, model_kf\n",
    "\n",
    "def predict(df, dv, model):\n",
    "    pred_dicts = df[all_cols].to_dict(orient='records')\n",
    "\n",
    "    X = dv.transform(pred_dicts)\n",
    "    y_pred = model.predict_proba(X)[:, 1]\n",
    "\n",
    "    return y_pred"
   ]
  },
  {
   "cell_type": "code",
   "execution_count": 26,
   "id": "d9fd42d4",
   "metadata": {},
   "outputs": [
    {
     "name": "stdout",
     "output_type": "stream",
     "text": [
      "auc=0.9802, std=0.0025\n"
     ]
    }
   ],
   "source": [
    "scores = []\n",
    "\n",
    "kfold = KFold(n_splits=5, shuffle=True, random_state=1)\n",
    "\n",
    "for train_idx, val_idx in kfold.split(dff_train):\n",
    "    df_train_kf = dff_train.iloc[train_idx]\n",
    "    df_val_kf = dff_train.iloc[val_idx]\n",
    "\n",
    "    y_train_kf = df_train_kf[\"above_average\"]\n",
    "    y_val_kf = df_val_kf[\"above_average\"]\n",
    "\n",
    "    dv_kf, model_kf = train(df_train_kf, y_train_kf, C=1.0)\n",
    "    y_pred_kf = predict(df_val_kf, dv_kf, model_kf)\n",
    "\n",
    "    auc_sc = roc_auc_score(y_val_kf, y_pred_kf)\n",
    "    scores.append(auc_sc)\n",
    "\n",
    "print(f'auc={round(np.mean(scores),4)}, std={round(np.std(scores),4)}')"
   ]
  },
  {
   "cell_type": "markdown",
   "id": "c24a19ba",
   "metadata": {},
   "source": [
    "- How large is standard devidation of the scores across different folds? = **`0.003`**"
   ]
  },
  {
   "cell_type": "markdown",
   "id": "cca6e22e",
   "metadata": {},
   "source": [
    "## Question 6: Hyperparemeter Tuning\n",
    "\n",
    "Now let's use 5-Fold cross-validation to find the best parameter `C`:\n",
    "\n",
    "- Iterate over the following `C` values: `[0.01, 0.1, 0.5, 10]`\n",
    "- Initialize `KFold` with the same parameters as previously\n",
    "- Use these parametes for the model: `LogisticRegression(solver='liblinear', C=C, max_iter=1000)`\n",
    "- Compute the **mean** score as well as the **std** (round the **mean** and **std** to 3 decimal digits)\n",
    "\n",
    "Which `C` leads to the **best mean score**? \\\n",
    "`0.01` \\\n",
    "`0.1` \\\n",
    "`0.5` \\\n",
    "<u>**`10`**</u>\n",
    "\n",
    "If you have ties, select the score with the lowest std. If you still have ties, select the smallest `C`."
   ]
  },
  {
   "cell_type": "code",
   "execution_count": 27,
   "id": "3ef5c56d",
   "metadata": {},
   "outputs": [
    {
     "name": "stdout",
     "output_type": "stream",
     "text": [
      "C=0.01, 0.952 +- 0.002\n",
      "C= 0.1, 0.972 +- 0.002\n",
      "C=   1, 0.980 +- 0.002\n",
      "C=  10, 0.981 +- 0.002\n"
     ]
    }
   ],
   "source": [
    "# KFold with differnte values for C\n",
    "kfold = KFold(n_splits=5, shuffle=True, random_state=1)\n",
    "\n",
    "for C in [0.01, 0.1, 1, 10]:\n",
    "    scores = []\n",
    "\n",
    "    for train_idx, val_idx in kfold.split(dff_train):\n",
    "        df_train = dff_train.iloc[train_idx]\n",
    "        df_val = dff_train.iloc[val_idx]\n",
    "\n",
    "        y_train = df_train[\"above_average\"]\n",
    "        y_val = df_val[\"above_average\"]\n",
    "\n",
    "        dv, model = train(df_train, y_train, C=C)\n",
    "        y_pred = predict(df_val, dv, model)\n",
    "\n",
    "        auc_sc = roc_auc_score(y_val, y_pred)\n",
    "        scores.append(auc_sc)\n",
    "\n",
    "    print('C=%4s, %.3f +- %.3f' % (C, np.mean(scores), np.std(scores)))"
   ]
  },
  {
   "cell_type": "markdown",
   "id": "1785b1a3",
   "metadata": {},
   "source": [
    "- Which `C` leads to the **best mean score**? = <u>**`10`**</u>"
   ]
  }
 ],
 "metadata": {
  "kernelspec": {
   "display_name": "Python 3 (ipykernel)",
   "language": "python",
   "name": "python3"
  },
  "language_info": {
   "codemirror_mode": {
    "name": "ipython",
    "version": 3
   },
   "file_extension": ".py",
   "mimetype": "text/x-python",
   "name": "python",
   "nbconvert_exporter": "python",
   "pygments_lexer": "ipython3",
   "version": "3.10.13"
  }
 },
 "nbformat": 4,
 "nbformat_minor": 5
}
