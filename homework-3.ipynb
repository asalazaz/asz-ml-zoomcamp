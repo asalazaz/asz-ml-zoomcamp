{
 "cells": [
  {
   "cell_type": "markdown",
   "id": "b5c4caf8",
   "metadata": {},
   "source": [
    "# HW-3 - Classification\n",
    "In this homework, we will use the Car price dataset. Download it from here:\n",
    "\n",
    "https://raw.githubusercontent.com/alexeygrigorev/mlbookcamp-code/master/chapter-02-car-price/data.csv\n",
    "\n",
    "We'll keep working with the `MSRP` variable, and we'll transform it to a classification task."
   ]
  },
  {
   "cell_type": "markdown",
   "id": "8f5ee5ea",
   "metadata": {},
   "source": [
    "## 1. Import the libraries"
   ]
  },
  {
   "cell_type": "code",
   "execution_count": 1,
   "id": "dcbafd50",
   "metadata": {},
   "outputs": [],
   "source": [
    "import pandas as pd\n",
    "import numpy as np\n",
    "import seaborn as sns\n",
    "import matplotlib.pyplot as plt\n",
    "import seaborn as sns\n",
    "from sklearn.linear_model import Ridge\n",
    "from sklearn.metrics import mean_squared_error\n",
    "from sklearn.linear_model import LogisticRegression\n",
    "from sklearn.metrics import accuracy_score\n",
    "from sklearn.metrics import mutual_info_score\n",
    "from sklearn.feature_extraction import DictVectorizer\n",
    "from sklearn.model_selection import train_test_split"
   ]
  },
  {
   "cell_type": "markdown",
   "id": "a4042e05",
   "metadata": {},
   "source": [
    "## 2. Import dataset\n",
    "\n",
    "For the rest of the homework, you'll need to use only these columns:\n",
    "\n",
    "`[Make, Model, Year, Engine HP, Engine Cylinders, Transmission Type, Vehicle Style, highway MPG, city mpg]`\n"
   ]
  },
  {
   "cell_type": "code",
   "execution_count": 2,
   "id": "d181cb16",
   "metadata": {},
   "outputs": [],
   "source": [
    "cols = [\"Make\", \"Model\", \"Year\", \"Engine HP\", \"Engine Cylinders\", \"Transmission Type\",\n",
    "        \"Vehicle Style\", \"highway MPG\", \"city mpg\", \"MSRP\"]\n",
    "url = \"https://raw.githubusercontent.com/alexeygrigorev/mlbookcamp-code/master/chapter-02-car-price/data.csv\"\n",
    "dff = pd.read_csv(url, usecols=cols)"
   ]
  },
  {
   "cell_type": "code",
   "execution_count": 3,
   "id": "5b52563a",
   "metadata": {},
   "outputs": [
    {
     "name": "stdout",
     "output_type": "stream",
     "text": [
      "<class 'pandas.core.frame.DataFrame'>\n",
      "RangeIndex: 11914 entries, 0 to 11913\n",
      "Data columns (total 10 columns):\n",
      " #   Column             Non-Null Count  Dtype  \n",
      "---  ------             --------------  -----  \n",
      " 0   Make               11914 non-null  object \n",
      " 1   Model              11914 non-null  object \n",
      " 2   Year               11914 non-null  int64  \n",
      " 3   Engine HP          11845 non-null  float64\n",
      " 4   Engine Cylinders   11884 non-null  float64\n",
      " 5   Transmission Type  11914 non-null  object \n",
      " 6   Vehicle Style      11914 non-null  object \n",
      " 7   highway MPG        11914 non-null  int64  \n",
      " 8   city mpg           11914 non-null  int64  \n",
      " 9   MSRP               11914 non-null  int64  \n",
      "dtypes: float64(2), int64(4), object(4)\n",
      "memory usage: 930.9+ KB\n"
     ]
    }
   ],
   "source": [
    "dff.info()"
   ]
  },
  {
   "cell_type": "code",
   "execution_count": 4,
   "id": "c374dc74",
   "metadata": {},
   "outputs": [
    {
     "data": {
      "text/html": [
       "<div>\n",
       "<style scoped>\n",
       "    .dataframe tbody tr th:only-of-type {\n",
       "        vertical-align: middle;\n",
       "    }\n",
       "\n",
       "    .dataframe tbody tr th {\n",
       "        vertical-align: top;\n",
       "    }\n",
       "\n",
       "    .dataframe thead th {\n",
       "        text-align: right;\n",
       "    }\n",
       "</style>\n",
       "<table border=\"1\" class=\"dataframe\">\n",
       "  <thead>\n",
       "    <tr style=\"text-align: right;\">\n",
       "      <th></th>\n",
       "      <th>Make</th>\n",
       "      <th>Model</th>\n",
       "      <th>Year</th>\n",
       "      <th>Engine HP</th>\n",
       "      <th>Engine Cylinders</th>\n",
       "      <th>Transmission Type</th>\n",
       "      <th>Vehicle Style</th>\n",
       "      <th>highway MPG</th>\n",
       "      <th>city mpg</th>\n",
       "      <th>MSRP</th>\n",
       "    </tr>\n",
       "  </thead>\n",
       "  <tbody>\n",
       "    <tr>\n",
       "      <th>0</th>\n",
       "      <td>BMW</td>\n",
       "      <td>1 Series M</td>\n",
       "      <td>2011</td>\n",
       "      <td>335.0</td>\n",
       "      <td>6.0</td>\n",
       "      <td>MANUAL</td>\n",
       "      <td>Coupe</td>\n",
       "      <td>26</td>\n",
       "      <td>19</td>\n",
       "      <td>46135</td>\n",
       "    </tr>\n",
       "    <tr>\n",
       "      <th>1</th>\n",
       "      <td>BMW</td>\n",
       "      <td>1 Series</td>\n",
       "      <td>2011</td>\n",
       "      <td>300.0</td>\n",
       "      <td>6.0</td>\n",
       "      <td>MANUAL</td>\n",
       "      <td>Convertible</td>\n",
       "      <td>28</td>\n",
       "      <td>19</td>\n",
       "      <td>40650</td>\n",
       "    </tr>\n",
       "    <tr>\n",
       "      <th>2</th>\n",
       "      <td>BMW</td>\n",
       "      <td>1 Series</td>\n",
       "      <td>2011</td>\n",
       "      <td>300.0</td>\n",
       "      <td>6.0</td>\n",
       "      <td>MANUAL</td>\n",
       "      <td>Coupe</td>\n",
       "      <td>28</td>\n",
       "      <td>20</td>\n",
       "      <td>36350</td>\n",
       "    </tr>\n",
       "    <tr>\n",
       "      <th>3</th>\n",
       "      <td>BMW</td>\n",
       "      <td>1 Series</td>\n",
       "      <td>2011</td>\n",
       "      <td>230.0</td>\n",
       "      <td>6.0</td>\n",
       "      <td>MANUAL</td>\n",
       "      <td>Coupe</td>\n",
       "      <td>28</td>\n",
       "      <td>18</td>\n",
       "      <td>29450</td>\n",
       "    </tr>\n",
       "    <tr>\n",
       "      <th>4</th>\n",
       "      <td>BMW</td>\n",
       "      <td>1 Series</td>\n",
       "      <td>2011</td>\n",
       "      <td>230.0</td>\n",
       "      <td>6.0</td>\n",
       "      <td>MANUAL</td>\n",
       "      <td>Convertible</td>\n",
       "      <td>28</td>\n",
       "      <td>18</td>\n",
       "      <td>34500</td>\n",
       "    </tr>\n",
       "  </tbody>\n",
       "</table>\n",
       "</div>"
      ],
      "text/plain": [
       "  Make       Model  Year  Engine HP  Engine Cylinders Transmission Type  \\\n",
       "0  BMW  1 Series M  2011      335.0               6.0            MANUAL   \n",
       "1  BMW    1 Series  2011      300.0               6.0            MANUAL   \n",
       "2  BMW    1 Series  2011      300.0               6.0            MANUAL   \n",
       "3  BMW    1 Series  2011      230.0               6.0            MANUAL   \n",
       "4  BMW    1 Series  2011      230.0               6.0            MANUAL   \n",
       "\n",
       "  Vehicle Style  highway MPG  city mpg   MSRP  \n",
       "0         Coupe           26        19  46135  \n",
       "1   Convertible           28        19  40650  \n",
       "2         Coupe           28        20  36350  \n",
       "3         Coupe           28        18  29450  \n",
       "4   Convertible           28        18  34500  "
      ]
     },
     "execution_count": 4,
     "metadata": {},
     "output_type": "execute_result"
    }
   ],
   "source": [
    "dff.head()"
   ]
  },
  {
   "cell_type": "markdown",
   "id": "d6548cf1",
   "metadata": {},
   "source": [
    "### Data preparation\n",
    "\n",
    "- Select only the features from above and transform their names using next line:\n",
    "\n",
    "`data.columns = data.columns.str.replace(' ', '_').str.lower()`"
   ]
  },
  {
   "cell_type": "code",
   "execution_count": 5,
   "id": "feae41c2",
   "metadata": {},
   "outputs": [
    {
     "data": {
      "text/plain": [
       "Index(['make', 'model', 'year', 'engine_hp', 'engine_cylinders',\n",
       "       'transmission_type', 'vehicle_style', 'highway_mpg', 'city_mpg',\n",
       "       'msrp'],\n",
       "      dtype='object')"
      ]
     },
     "execution_count": 5,
     "metadata": {},
     "output_type": "execute_result"
    }
   ],
   "source": [
    "dff.columns = dff.columns.str.replace(' ', '_').str.lower()\n",
    "dff.columns"
   ]
  },
  {
   "cell_type": "markdown",
   "id": "ef637dda",
   "metadata": {},
   "source": [
    "- Fill in the missing values of the selected features with 0."
   ]
  },
  {
   "cell_type": "code",
   "execution_count": 6,
   "id": "71157902",
   "metadata": {
    "scrolled": true
   },
   "outputs": [
    {
     "data": {
      "text/plain": [
       "make                  0\n",
       "model                 0\n",
       "year                  0\n",
       "engine_hp            69\n",
       "engine_cylinders     30\n",
       "transmission_type     0\n",
       "vehicle_style         0\n",
       "highway_mpg           0\n",
       "city_mpg              0\n",
       "msrp                  0\n",
       "dtype: int64"
      ]
     },
     "execution_count": 6,
     "metadata": {},
     "output_type": "execute_result"
    }
   ],
   "source": [
    "dff.isna().sum()"
   ]
  },
  {
   "cell_type": "code",
   "execution_count": 7,
   "id": "bb026d5a",
   "metadata": {},
   "outputs": [],
   "source": [
    "dff[\"engine_hp\"].fillna(value=0, inplace=True)\n",
    "dff[\"engine_cylinders\"].fillna(value=0, inplace=True)"
   ]
  },
  {
   "cell_type": "code",
   "execution_count": 8,
   "id": "032659aa",
   "metadata": {},
   "outputs": [
    {
     "name": "stdout",
     "output_type": "stream",
     "text": [
      "<class 'pandas.core.frame.DataFrame'>\n",
      "RangeIndex: 11914 entries, 0 to 11913\n",
      "Data columns (total 10 columns):\n",
      " #   Column             Non-Null Count  Dtype  \n",
      "---  ------             --------------  -----  \n",
      " 0   make               11914 non-null  object \n",
      " 1   model              11914 non-null  object \n",
      " 2   year               11914 non-null  int64  \n",
      " 3   engine_hp          11914 non-null  float64\n",
      " 4   engine_cylinders   11914 non-null  float64\n",
      " 5   transmission_type  11914 non-null  object \n",
      " 6   vehicle_style      11914 non-null  object \n",
      " 7   highway_mpg        11914 non-null  int64  \n",
      " 8   city_mpg           11914 non-null  int64  \n",
      " 9   msrp               11914 non-null  int64  \n",
      "dtypes: float64(2), int64(4), object(4)\n",
      "memory usage: 930.9+ KB\n"
     ]
    }
   ],
   "source": [
    "dff.info()"
   ]
  },
  {
   "cell_type": "markdown",
   "id": "61b26459",
   "metadata": {},
   "source": [
    "- Rename `MSRP` variable to `price`."
   ]
  },
  {
   "cell_type": "code",
   "execution_count": 9,
   "id": "8d70d190",
   "metadata": {},
   "outputs": [
    {
     "data": {
      "text/plain": [
       "Index(['make', 'model', 'year', 'engine_hp', 'engine_cylinders',\n",
       "       'transmission_type', 'vehicle_style', 'highway_mpg', 'city_mpg',\n",
       "       'price'],\n",
       "      dtype='object')"
      ]
     },
     "execution_count": 9,
     "metadata": {},
     "output_type": "execute_result"
    }
   ],
   "source": [
    "dff.columns = ['make', 'model', 'year', 'engine_hp', 'engine_cylinders',\n",
    "       'transmission_type', 'vehicle_style', 'highway_mpg', 'city_mpg',\n",
    "       'price']\n",
    "dff.columns"
   ]
  },
  {
   "cell_type": "code",
   "execution_count": 10,
   "id": "035a5789",
   "metadata": {},
   "outputs": [
    {
     "name": "stdout",
     "output_type": "stream",
     "text": [
      "<class 'pandas.core.frame.DataFrame'>\n",
      "RangeIndex: 11914 entries, 0 to 11913\n",
      "Data columns (total 10 columns):\n",
      " #   Column             Non-Null Count  Dtype  \n",
      "---  ------             --------------  -----  \n",
      " 0   make               11914 non-null  object \n",
      " 1   model              11914 non-null  object \n",
      " 2   year               11914 non-null  int64  \n",
      " 3   engine_hp          11914 non-null  float64\n",
      " 4   engine_cylinders   11914 non-null  float64\n",
      " 5   transmission_type  11914 non-null  object \n",
      " 6   vehicle_style      11914 non-null  object \n",
      " 7   highway_mpg        11914 non-null  int64  \n",
      " 8   city_mpg           11914 non-null  int64  \n",
      " 9   price              11914 non-null  int64  \n",
      "dtypes: float64(2), int64(4), object(4)\n",
      "memory usage: 930.9+ KB\n"
     ]
    }
   ],
   "source": [
    "dff.info()"
   ]
  },
  {
   "cell_type": "markdown",
   "id": "bb7424fa",
   "metadata": {},
   "source": [
    "## Question 1\n",
    "\n",
    "What is the **most frequent** observation (mode) for the column `transmission_type`?\n",
    "\n",
    "<u>**`AUTOMATIC`**</u> \\\n",
    "`MANUAL` \\\n",
    "`AUTOMATED_MANUAL` \\\n",
    "`DIRECT_DRIVE`"
   ]
  },
  {
   "cell_type": "code",
   "execution_count": 11,
   "id": "69337cd0",
   "metadata": {},
   "outputs": [
    {
     "data": {
      "text/plain": [
       "transmission_type\n",
       "AUTOMATIC           8266\n",
       "MANUAL              2935\n",
       "AUTOMATED_MANUAL     626\n",
       "DIRECT_DRIVE          68\n",
       "UNKNOWN               19\n",
       "Name: count, dtype: int64"
      ]
     },
     "execution_count": 11,
     "metadata": {},
     "output_type": "execute_result"
    }
   ],
   "source": [
    "# One way to find the most frequent observation is by counting the values of the column\n",
    "dff[\"transmission_type\"].value_counts()"
   ]
  },
  {
   "cell_type": "code",
   "execution_count": 12,
   "id": "16398aa4",
   "metadata": {},
   "outputs": [
    {
     "data": {
      "text/plain": [
       "0    AUTOMATIC\n",
       "Name: transmission_type, dtype: object"
      ]
     },
     "execution_count": 12,
     "metadata": {},
     "output_type": "execute_result"
    }
   ],
   "source": [
    "# Another way is by using the method '.mode()'\n",
    "dff[\"transmission_type\"].mode()"
   ]
  },
  {
   "cell_type": "markdown",
   "id": "ab9aa8b2",
   "metadata": {},
   "source": [
    "- What is the **most frequent** observation (mode) for the column `transmission_type`? = <u>**`AUTOMATIC`**</u>"
   ]
  },
  {
   "cell_type": "markdown",
   "id": "707fdf3c",
   "metadata": {},
   "source": [
    "## Question 2\n",
    "\n",
    "- Create the **correlation matrix** for the numerical features of your dataset. In a correlation matrix, you compute the correlation coefficient between every pair of features in the dataset.\n",
    "- What are the two features that have the **biggest** correlation in this dataset? \\\n",
    "`engine_hp` & `year` \\\n",
    "`engine_hp` & `engine_cylinders` \\\n",
    "`highway_mpg` & `engine_cylinders` \\\n",
    "<u>**`highway_mpg`** & **`city_mpg`**</u>"
   ]
  },
  {
   "cell_type": "code",
   "execution_count": 13,
   "id": "73a23463",
   "metadata": {},
   "outputs": [],
   "source": [
    "numeric_cols = dff.select_dtypes(include=['int', 'float']).columns.tolist()"
   ]
  },
  {
   "cell_type": "code",
   "execution_count": 14,
   "id": "a442b16f",
   "metadata": {
    "scrolled": true
   },
   "outputs": [
    {
     "data": {
      "text/html": [
       "<div>\n",
       "<style scoped>\n",
       "    .dataframe tbody tr th:only-of-type {\n",
       "        vertical-align: middle;\n",
       "    }\n",
       "\n",
       "    .dataframe tbody tr th {\n",
       "        vertical-align: top;\n",
       "    }\n",
       "\n",
       "    .dataframe thead th {\n",
       "        text-align: right;\n",
       "    }\n",
       "</style>\n",
       "<table border=\"1\" class=\"dataframe\">\n",
       "  <thead>\n",
       "    <tr style=\"text-align: right;\">\n",
       "      <th></th>\n",
       "      <th>year</th>\n",
       "      <th>engine_hp</th>\n",
       "      <th>engine_cylinders</th>\n",
       "      <th>highway_mpg</th>\n",
       "      <th>city_mpg</th>\n",
       "      <th>price</th>\n",
       "    </tr>\n",
       "  </thead>\n",
       "  <tbody>\n",
       "    <tr>\n",
       "      <th>year</th>\n",
       "      <td>1.000000</td>\n",
       "      <td>0.338714</td>\n",
       "      <td>-0.040708</td>\n",
       "      <td>0.258240</td>\n",
       "      <td>0.198171</td>\n",
       "      <td>0.227590</td>\n",
       "    </tr>\n",
       "    <tr>\n",
       "      <th>engine_hp</th>\n",
       "      <td>0.338714</td>\n",
       "      <td>1.000000</td>\n",
       "      <td>0.774851</td>\n",
       "      <td>-0.415707</td>\n",
       "      <td>-0.424918</td>\n",
       "      <td>0.650095</td>\n",
       "    </tr>\n",
       "    <tr>\n",
       "      <th>engine_cylinders</th>\n",
       "      <td>-0.040708</td>\n",
       "      <td>0.774851</td>\n",
       "      <td>1.000000</td>\n",
       "      <td>-0.614541</td>\n",
       "      <td>-0.587306</td>\n",
       "      <td>0.526274</td>\n",
       "    </tr>\n",
       "    <tr>\n",
       "      <th>highway_mpg</th>\n",
       "      <td>0.258240</td>\n",
       "      <td>-0.415707</td>\n",
       "      <td>-0.614541</td>\n",
       "      <td>1.000000</td>\n",
       "      <td>0.886829</td>\n",
       "      <td>-0.160043</td>\n",
       "    </tr>\n",
       "    <tr>\n",
       "      <th>city_mpg</th>\n",
       "      <td>0.198171</td>\n",
       "      <td>-0.424918</td>\n",
       "      <td>-0.587306</td>\n",
       "      <td>0.886829</td>\n",
       "      <td>1.000000</td>\n",
       "      <td>-0.157676</td>\n",
       "    </tr>\n",
       "    <tr>\n",
       "      <th>price</th>\n",
       "      <td>0.227590</td>\n",
       "      <td>0.650095</td>\n",
       "      <td>0.526274</td>\n",
       "      <td>-0.160043</td>\n",
       "      <td>-0.157676</td>\n",
       "      <td>1.000000</td>\n",
       "    </tr>\n",
       "  </tbody>\n",
       "</table>\n",
       "</div>"
      ],
      "text/plain": [
       "                      year  engine_hp  engine_cylinders  highway_mpg  \\\n",
       "year              1.000000   0.338714         -0.040708     0.258240   \n",
       "engine_hp         0.338714   1.000000          0.774851    -0.415707   \n",
       "engine_cylinders -0.040708   0.774851          1.000000    -0.614541   \n",
       "highway_mpg       0.258240  -0.415707         -0.614541     1.000000   \n",
       "city_mpg          0.198171  -0.424918         -0.587306     0.886829   \n",
       "price             0.227590   0.650095          0.526274    -0.160043   \n",
       "\n",
       "                  city_mpg     price  \n",
       "year              0.198171  0.227590  \n",
       "engine_hp        -0.424918  0.650095  \n",
       "engine_cylinders -0.587306  0.526274  \n",
       "highway_mpg       0.886829 -0.160043  \n",
       "city_mpg          1.000000 -0.157676  \n",
       "price            -0.157676  1.000000  "
      ]
     },
     "execution_count": 14,
     "metadata": {},
     "output_type": "execute_result"
    }
   ],
   "source": [
    "dff[numeric_cols].corr()"
   ]
  },
  {
   "cell_type": "code",
   "execution_count": 15,
   "id": "66c719df",
   "metadata": {
    "scrolled": false
   },
   "outputs": [
    {
     "data": {
      "image/png": "[encoded data removed]",
      "text/plain": [
       "<Figure size 500x300 with 2 Axes>"
      ]
     },
     "metadata": {},
     "output_type": "display_data"
    }
   ],
   "source": [
    "plt.figure(figsize=(5,3))\n",
    "sns.heatmap(dff[numeric_cols].corr(), cmap=\"YlGnBu\", annot=True, linewidths=0.5);\n",
    "plt.title('Heatmap showing correlations between numerical features')\n",
    "plt.show()"
   ]
  },
  {
   "cell_type": "markdown",
   "id": "30e7deec",
   "metadata": {},
   "source": [
    "- What are the two features that have the **biggest** correlation in this dataset? = <u>**`highway_mpg`** & **`city_mpg`**</u>"
   ]
  },
  {
   "cell_type": "markdown",
   "id": "455b6180",
   "metadata": {},
   "source": [
    "# Make price binary\n",
    "\n",
    "- Now we need to turn the `price` variable from numeric into a binary format.\n",
    "- Let's create a variable `above_average` which is **1** if the `price` is above its **mean** value and **0** otherwise."
   ]
  },
  {
   "cell_type": "code",
   "execution_count": 16,
   "id": "383dedea",
   "metadata": {
    "scrolled": true
   },
   "outputs": [
    {
     "data": {
      "text/html": [
       "<div>\n",
       "<style scoped>\n",
       "    .dataframe tbody tr th:only-of-type {\n",
       "        vertical-align: middle;\n",
       "    }\n",
       "\n",
       "    .dataframe tbody tr th {\n",
       "        vertical-align: top;\n",
       "    }\n",
       "\n",
       "    .dataframe thead th {\n",
       "        text-align: right;\n",
       "    }\n",
       "</style>\n",
       "<table border=\"1\" class=\"dataframe\">\n",
       "  <thead>\n",
       "    <tr style=\"text-align: right;\">\n",
       "      <th></th>\n",
       "      <th>make</th>\n",
       "      <th>model</th>\n",
       "      <th>year</th>\n",
       "      <th>engine_hp</th>\n",
       "      <th>engine_cylinders</th>\n",
       "      <th>transmission_type</th>\n",
       "      <th>vehicle_style</th>\n",
       "      <th>highway_mpg</th>\n",
       "      <th>city_mpg</th>\n",
       "      <th>price</th>\n",
       "      <th>above_average</th>\n",
       "    </tr>\n",
       "  </thead>\n",
       "  <tbody>\n",
       "    <tr>\n",
       "      <th>0</th>\n",
       "      <td>BMW</td>\n",
       "      <td>1 Series M</td>\n",
       "      <td>2011</td>\n",
       "      <td>335.0</td>\n",
       "      <td>6.0</td>\n",
       "      <td>MANUAL</td>\n",
       "      <td>Coupe</td>\n",
       "      <td>26</td>\n",
       "      <td>19</td>\n",
       "      <td>46135</td>\n",
       "      <td>1</td>\n",
       "    </tr>\n",
       "    <tr>\n",
       "      <th>1</th>\n",
       "      <td>BMW</td>\n",
       "      <td>1 Series</td>\n",
       "      <td>2011</td>\n",
       "      <td>300.0</td>\n",
       "      <td>6.0</td>\n",
       "      <td>MANUAL</td>\n",
       "      <td>Convertible</td>\n",
       "      <td>28</td>\n",
       "      <td>19</td>\n",
       "      <td>40650</td>\n",
       "      <td>1</td>\n",
       "    </tr>\n",
       "    <tr>\n",
       "      <th>2</th>\n",
       "      <td>BMW</td>\n",
       "      <td>1 Series</td>\n",
       "      <td>2011</td>\n",
       "      <td>300.0</td>\n",
       "      <td>6.0</td>\n",
       "      <td>MANUAL</td>\n",
       "      <td>Coupe</td>\n",
       "      <td>28</td>\n",
       "      <td>20</td>\n",
       "      <td>36350</td>\n",
       "      <td>0</td>\n",
       "    </tr>\n",
       "    <tr>\n",
       "      <th>3</th>\n",
       "      <td>BMW</td>\n",
       "      <td>1 Series</td>\n",
       "      <td>2011</td>\n",
       "      <td>230.0</td>\n",
       "      <td>6.0</td>\n",
       "      <td>MANUAL</td>\n",
       "      <td>Coupe</td>\n",
       "      <td>28</td>\n",
       "      <td>18</td>\n",
       "      <td>29450</td>\n",
       "      <td>0</td>\n",
       "    </tr>\n",
       "    <tr>\n",
       "      <th>4</th>\n",
       "      <td>BMW</td>\n",
       "      <td>1 Series</td>\n",
       "      <td>2011</td>\n",
       "      <td>230.0</td>\n",
       "      <td>6.0</td>\n",
       "      <td>MANUAL</td>\n",
       "      <td>Convertible</td>\n",
       "      <td>28</td>\n",
       "      <td>18</td>\n",
       "      <td>34500</td>\n",
       "      <td>0</td>\n",
       "    </tr>\n",
       "  </tbody>\n",
       "</table>\n",
       "</div>"
      ],
      "text/plain": [
       "  make       model  year  engine_hp  engine_cylinders transmission_type  \\\n",
       "0  BMW  1 Series M  2011      335.0               6.0            MANUAL   \n",
       "1  BMW    1 Series  2011      300.0               6.0            MANUAL   \n",
       "2  BMW    1 Series  2011      300.0               6.0            MANUAL   \n",
       "3  BMW    1 Series  2011      230.0               6.0            MANUAL   \n",
       "4  BMW    1 Series  2011      230.0               6.0            MANUAL   \n",
       "\n",
       "  vehicle_style  highway_mpg  city_mpg  price  above_average  \n",
       "0         Coupe           26        19  46135              1  \n",
       "1   Convertible           28        19  40650              1  \n",
       "2         Coupe           28        20  36350              0  \n",
       "3         Coupe           28        18  29450              0  \n",
       "4   Convertible           28        18  34500              0  "
      ]
     },
     "execution_count": 16,
     "metadata": {},
     "output_type": "execute_result"
    }
   ],
   "source": [
    "dff_bin = dff.copy()\n",
    "mean = dff_bin[\"price\"].mean()\n",
    "dff_bin[\"above_average\"] = np.where(dff_bin[\"price\"]>=mean, 1, 0)\n",
    "dff_bin.head()"
   ]
  },
  {
   "cell_type": "code",
   "execution_count": 17,
   "id": "0deed296",
   "metadata": {},
   "outputs": [
    {
     "data": {
      "text/plain": [
       "make                  object\n",
       "model                 object\n",
       "year                   int64\n",
       "engine_hp            float64\n",
       "engine_cylinders     float64\n",
       "transmission_type     object\n",
       "vehicle_style         object\n",
       "highway_mpg            int64\n",
       "city_mpg               int64\n",
       "price                  int64\n",
       "above_average         object\n",
       "dtype: object"
      ]
     },
     "execution_count": 17,
     "metadata": {},
     "output_type": "execute_result"
    }
   ],
   "source": [
    "dff_bin[\"above_average\"] = dff_bin[\"above_average\"].astype(str) #pd.(dff_bin.above_average)\n",
    "dff_bin.dtypes"
   ]
  },
  {
   "cell_type": "code",
   "execution_count": 18,
   "id": "2864626e",
   "metadata": {
    "scrolled": false
   },
   "outputs": [
    {
     "name": "stdout",
     "output_type": "stream",
     "text": [
      "<class 'pandas.core.frame.DataFrame'>\n",
      "RangeIndex: 11914 entries, 0 to 11913\n",
      "Data columns (total 10 columns):\n",
      " #   Column             Non-Null Count  Dtype  \n",
      "---  ------             --------------  -----  \n",
      " 0   make               11914 non-null  object \n",
      " 1   model              11914 non-null  object \n",
      " 2   year               11914 non-null  int64  \n",
      " 3   engine_hp          11914 non-null  float64\n",
      " 4   engine_cylinders   11914 non-null  float64\n",
      " 5   transmission_type  11914 non-null  object \n",
      " 6   vehicle_style      11914 non-null  object \n",
      " 7   highway_mpg        11914 non-null  int64  \n",
      " 8   city_mpg           11914 non-null  int64  \n",
      " 9   above_average      11914 non-null  object \n",
      "dtypes: float64(2), int64(3), object(5)\n",
      "memory usage: 930.9+ KB\n"
     ]
    }
   ],
   "source": [
    "dff_bin = dff_bin.drop(\"price\", axis=1)\n",
    "dff_bin.info()"
   ]
  },
  {
   "cell_type": "code",
   "execution_count": 22,
   "id": "a7b06201",
   "metadata": {},
   "outputs": [
    {
     "data": {
      "text/plain": [
       "['make', 'model', 'transmission_type', 'vehicle_style']"
      ]
     },
     "execution_count": 22,
     "metadata": {},
     "output_type": "execute_result"
    }
   ],
   "source": [
    "# Extract the categorical variables\n",
    "cat_cols = dff_bin.select_dtypes(include=['object']).columns.tolist()[0:-1]\n",
    "cat_cols"
   ]
  },
  {
   "cell_type": "code",
   "execution_count": 23,
   "id": "a9499c26",
   "metadata": {},
   "outputs": [
    {
     "name": "stdout",
     "output_type": "stream",
     "text": [
      "<class 'pandas.core.frame.DataFrame'>\n",
      "RangeIndex: 11914 entries, 0 to 11913\n",
      "Data columns (total 10 columns):\n",
      " #   Column             Non-Null Count  Dtype   \n",
      "---  ------             --------------  -----   \n",
      " 0   make               11914 non-null  category\n",
      " 1   model              11914 non-null  category\n",
      " 2   year               11914 non-null  int64   \n",
      " 3   engine_hp          11914 non-null  float64 \n",
      " 4   engine_cylinders   11914 non-null  float64 \n",
      " 5   transmission_type  11914 non-null  category\n",
      " 6   vehicle_style      11914 non-null  category\n",
      " 7   highway_mpg        11914 non-null  int64   \n",
      " 8   city_mpg           11914 non-null  int64   \n",
      " 9   above_average      11914 non-null  object  \n",
      "dtypes: category(4), float64(2), int64(3), object(1)\n",
      "memory usage: 658.5+ KB\n"
     ]
    }
   ],
   "source": [
    "# Convert type of the categorical columns\n",
    "dff_bin[cat_cols] = dff_bin[cat_cols].astype(\"category\")\n",
    "dff_bin.info()"
   ]
  },
  {
   "cell_type": "markdown",
   "id": "08736420",
   "metadata": {},
   "source": [
    "# Split the data\n",
    "\n",
    "- Split your data in train/val/test sets with 60% / 20% / 20% distribution.\n",
    "- Use Scikit-Learn for that (the `train_test_split` function) and set the **seed** to **42**.\n",
    "- Make sure that the target value (`price`) is not in your dataframe."
   ]
  },
  {
   "cell_type": "code",
   "execution_count": 24,
   "id": "d7e81a12",
   "metadata": {},
   "outputs": [],
   "source": [
    "# Define the 'target' variable, the 'X' & 'y' dataframes\n",
    "target = [\"above_average\"]\n",
    "X = dff_bin.drop(target, axis=1)\n",
    "y = dff_bin[target]"
   ]
  },
  {
   "cell_type": "code",
   "execution_count": 25,
   "id": "f2393a9c",
   "metadata": {},
   "outputs": [],
   "source": [
    "# Use the train_test_split function of scikit-learn to split dataframes 'X' & 'y'\n",
    "X_0, X_test, y_0, y_test = train_test_split(X, y, test_size=0.2, random_state=42) \n",
    "\n",
    "# X_0 & y_0 are then splitted into train/val subsets\n",
    "X_train, X_val, y_train, y_val = train_test_split(X_0, y_0, test_size=0.25, random_state=42)"
   ]
  },
  {
   "cell_type": "code",
   "execution_count": 26,
   "id": "487f8749",
   "metadata": {},
   "outputs": [],
   "source": [
    "# Reset the index of the train/validation/test subsets\n",
    "X_train = X_train.reset_index(drop=True)\n",
    "X_val = X_val.reset_index(drop=True)\n",
    "X_test = X_test.reset_index(drop=True)"
   ]
  },
  {
   "cell_type": "code",
   "execution_count": 27,
   "id": "31deec9f",
   "metadata": {},
   "outputs": [
    {
     "data": {
      "text/plain": [
       "((7148, 9), (2383, 9), (2383, 9))"
      ]
     },
     "execution_count": 27,
     "metadata": {},
     "output_type": "execute_result"
    }
   ],
   "source": [
    "X_train.shape, X_val.shape, X_test.shape"
   ]
  },
  {
   "cell_type": "markdown",
   "id": "f7e81ebd",
   "metadata": {},
   "source": [
    "## Question 3\n",
    "\n",
    "- Calculate the **mutual information score** between `above_average` and other categorical variables in our dataset. Use the **training set** only.\n",
    "- Round the scores to 2 decimals using `round(score, 2)`.\n",
    "- Which of these variables has the **lowest** mutual information score? \\\n",
    "`make` \\\n",
    "`model` \\\n",
    "<u>**`transmission_type`**</u> \\\n",
    "`vehicle_style`"
   ]
  },
  {
   "cell_type": "code",
   "execution_count": 28,
   "id": "eff96765",
   "metadata": {},
   "outputs": [
    {
     "data": {
      "text/plain": [
       "['make', 'model', 'transmission_type', 'vehicle_style']"
      ]
     },
     "execution_count": 28,
     "metadata": {},
     "output_type": "execute_result"
    }
   ],
   "source": [
    "# Extract the categorical variables\n",
    "cat_cols = dff_bin.select_dtypes(include=['category']).columns.tolist()\n",
    "cat_cols"
   ]
  },
  {
   "cell_type": "code",
   "execution_count": 29,
   "id": "e4242ece",
   "metadata": {
    "scrolled": true
   },
   "outputs": [
    {
     "data": {
      "text/plain": [
       "0        Mitsubishi\n",
       "1               Kia\n",
       "2       Lamborghini\n",
       "3         Chevrolet\n",
       "4           Pontiac\n",
       "           ...     \n",
       "7143         Toyota\n",
       "7144      Chevrolet\n",
       "7145        Hyundai\n",
       "7146     Mitsubishi\n",
       "7147           Ford\n",
       "Name: make, Length: 7148, dtype: category\n",
       "Categories (48, object): ['Acura', 'Alfa Romeo', 'Aston Martin', 'Audi', ..., 'Tesla', 'Toyota', 'Volkswagen', 'Volvo']"
      ]
     },
     "execution_count": 29,
     "metadata": {},
     "output_type": "execute_result"
    }
   ],
   "source": [
    "X_train[cat_cols[0]] # Validating the shape of the X_train dataset"
   ]
  },
  {
   "cell_type": "code",
   "execution_count": 30,
   "id": "2e597139",
   "metadata": {},
   "outputs": [
    {
     "data": {
      "text/plain": [
       "3972     0\n",
       "1997     0\n",
       "5216     1\n",
       "2805     0\n",
       "11369    0\n",
       "        ..\n",
       "9232     0\n",
       "5710     0\n",
       "11306    0\n",
       "4414     0\n",
       "10286    0\n",
       "Name: above_average, Length: 7148, dtype: object"
      ]
     },
     "execution_count": 30,
     "metadata": {},
     "output_type": "execute_result"
    }
   ],
   "source": [
    "y_train.iloc[:,0] # Validating the shape of the y_train column"
   ]
  },
  {
   "cell_type": "code",
   "execution_count": 31,
   "id": "6c32fa26",
   "metadata": {},
   "outputs": [
    {
     "data": {
      "text/plain": [
       "{'make': 0.24, 'model': 0.46, 'transmission_type': 0.02}"
      ]
     },
     "execution_count": 31,
     "metadata": {},
     "output_type": "execute_result"
    }
   ],
   "source": [
    "# Calculate the mutual information score\n",
    "mi_dict = {}\n",
    "for i in cat_cols[0:-1]:\n",
    "    mi_dict[i] = round(mutual_info_score(X_train[i], y_train.iloc[:,0]),2)\n",
    "      \n",
    "mi_dict"
   ]
  },
  {
   "cell_type": "code",
   "execution_count": 33,
   "id": "12cfd2d7",
   "metadata": {
    "scrolled": true
   },
   "outputs": [
    {
     "name": "stdout",
     "output_type": "stream",
     "text": [
      "transmission_type: 0.02\n"
     ]
    }
   ],
   "source": [
    "# The maximum value of the mutual info. score\n",
    "print(f'{min(mi_dict, key=mi_dict.get)}: {min(mi_dict.values())}')"
   ]
  },
  {
   "cell_type": "markdown",
   "id": "5224b419",
   "metadata": {},
   "source": [
    "- Mutual info score calculation based on the function provided in the video lectures"
   ]
  },
  {
   "cell_type": "code",
   "execution_count": 34,
   "id": "c7ea498c",
   "metadata": {},
   "outputs": [],
   "source": [
    "# Creating the X_train, X_val, X_test datasets with full columns\n",
    "Xf = dff_bin.copy()\n",
    "X_0, Xf_test = train_test_split(Xf, test_size=0.2, random_state=42) \n",
    "Xf_train, Xf_val = train_test_split(X_0, test_size=0.25, random_state=42)"
   ]
  },
  {
   "cell_type": "code",
   "execution_count": 35,
   "id": "a46b346c",
   "metadata": {},
   "outputs": [],
   "source": [
    "# Defining the function\n",
    "def calculate_mi(series):\n",
    "    return round(mutual_info_score(series, Xf_train.above_average), 2)"
   ]
  },
  {
   "cell_type": "code",
   "execution_count": 36,
   "id": "0641487e",
   "metadata": {
    "scrolled": false
   },
   "outputs": [
    {
     "data": {
      "text/plain": [
       "transmission_type    0.02\n",
       "vehicle_style        0.08\n",
       "make                 0.24\n",
       "model                0.46\n",
       "dtype: float64"
      ]
     },
     "execution_count": 36,
     "metadata": {},
     "output_type": "execute_result"
    }
   ],
   "source": [
    "# Apply the function to all the categorical variables\n",
    "mut_info = Xf_train[cat_cols].apply(calculate_mi)\n",
    "mut_info.sort_values()"
   ]
  },
  {
   "cell_type": "markdown",
   "id": "2f602e22",
   "metadata": {},
   "source": [
    "It is obtained the same result: **`transmission_type`** has the **lowest** mutual information score."
   ]
  },
  {
   "cell_type": "markdown",
   "id": "75f720d5",
   "metadata": {},
   "source": [
    "- Which of these variables has the **lowest** mutual information score? = <u>**`transmission_type`**</u>"
   ]
  },
  {
   "cell_type": "markdown",
   "id": "20321fd2",
   "metadata": {},
   "source": [
    "# Question 4\n",
    "\n",
    "- Now let's train a **logistic regression**.\n",
    "- Remember that we have several categorical variables in the dataset. Include them using **one-hot encoding**.\n",
    "- Fit the model on the training dataset.\n",
    "- To make sure the results are reproducible across different versions of Scikit-Learn, fit the model with these parameters:\\\n",
    "`model = LogisticRegression(solver='liblinear', C=10, max_iter=1000, random_state=42)`\n",
    "- Calculate the accuracy on the validation dataset and round it to 2 decimal digits.\n",
    "- What **accuracy** did you get? \\\n",
    "`0.60` \\\n",
    "`0.72` \\\n",
    "`0.84` \\\n",
    "<u>**`0.95`**</u>"
   ]
  },
  {
   "cell_type": "markdown",
   "id": "ddea034d",
   "metadata": {},
   "source": [
    "### One-hot encoding"
   ]
  },
  {
   "cell_type": "code",
   "execution_count": 37,
   "id": "f1bbcd79",
   "metadata": {
    "scrolled": true
   },
   "outputs": [
    {
     "name": "stdout",
     "output_type": "stream",
     "text": [
      "make: 48\n",
      "model: 915\n",
      "transmission_type: 5\n",
      "vehicle_style: 16\n"
     ]
    }
   ],
   "source": [
    "# Calculate the different categories in each categorical variable\n",
    "for i in cat_cols:\n",
    "    print(f'{i}: {len(dff_bin[i].value_counts())}')"
   ]
  },
  {
   "cell_type": "code",
   "execution_count": 38,
   "id": "1756c3cc",
   "metadata": {
    "scrolled": false
   },
   "outputs": [
    {
     "data": {
      "text/plain": [
       "['make',\n",
       " 'model',\n",
       " 'year',\n",
       " 'engine_hp',\n",
       " 'engine_cylinders',\n",
       " 'transmission_type',\n",
       " 'vehicle_style',\n",
       " 'highway_mpg',\n",
       " 'city_mpg']"
      ]
     },
     "execution_count": 38,
     "metadata": {},
     "output_type": "execute_result"
    }
   ],
   "source": [
    "# Create a list with all the columns\n",
    "all_cols = X_train.columns.to_list()\n",
    "all_cols"
   ]
  },
  {
   "cell_type": "markdown",
   "id": "693860fe",
   "metadata": {},
   "source": [
    "- OHE over the `X_train` set (obtained **after** splitting)"
   ]
  },
  {
   "cell_type": "code",
   "execution_count": 39,
   "id": "7cd65054",
   "metadata": {},
   "outputs": [],
   "source": [
    "# Dictionary for the X_train set\n",
    "train_dicts = X_train[all_cols].to_dict(orient='records')"
   ]
  },
  {
   "cell_type": "code",
   "execution_count": 52,
   "id": "5bc94f26",
   "metadata": {
    "scrolled": true
   },
   "outputs": [
    {
     "data": {
      "text/plain": [
       "(7148, 943)"
      ]
     },
     "execution_count": 52,
     "metadata": {},
     "output_type": "execute_result"
    }
   ],
   "source": [
    "# Apply One-hot encoding to X_train\n",
    "dv = DictVectorizer(sparse=False)\n",
    "X_train_oh = dv.fit_transform(train_dicts)\n",
    "X_train_oh.shape"
   ]
  },
  {
   "cell_type": "markdown",
   "id": "a9184d73",
   "metadata": {},
   "source": [
    "- OHE over the full dataset (it is, obtained **before** splitting)"
   ]
  },
  {
   "cell_type": "code",
   "execution_count": 47,
   "id": "20606d48",
   "metadata": {},
   "outputs": [
    {
     "data": {
      "text/plain": [
       "(11914, 989)"
      ]
     },
     "execution_count": 47,
     "metadata": {},
     "output_type": "execute_result"
    }
   ],
   "source": [
    "# 1. Apply One-Hot Encoding for the complete dataset\n",
    "target = [\"above_average\"]\n",
    "dff_X = dff_bin.drop(target, axis=1)\n",
    "dff_y = dff_bin[target]\n",
    "dff_dicts = dff_X[all_cols].to_dict(orient='records')\n",
    "\n",
    "# Instantiate the 'DictVectorizer'\n",
    "dv1 = DictVectorizer(sparse=False)\n",
    "dff_X_oh = dv1.fit_transform(dff_dicts)\n",
    "dff_X_oh.shape"
   ]
  },
  {
   "cell_type": "code",
   "execution_count": 48,
   "id": "38d7155c",
   "metadata": {},
   "outputs": [
    {
     "data": {
      "text/plain": [
       "((7148, 989), (2383, 989), (2383, 989))"
      ]
     },
     "execution_count": 48,
     "metadata": {},
     "output_type": "execute_result"
    }
   ],
   "source": [
    "# 2. Split the dff_oh dataset into train-val-test\n",
    "X_0_oh, X_test_2, y_0_oh, y_test_2 = train_test_split(dff_X_oh, dff_y, test_size=0.2, random_state=42) \n",
    "X_train_2, X_val_2, y_train_2, y_val_2 = train_test_split(X_0_oh, y_0_oh, test_size=0.25, random_state=42)\n",
    "X_train_2.shape, X_val_2.shape, X_test_2.shape"
   ]
  },
  {
   "cell_type": "markdown",
   "id": "6ef3823e",
   "metadata": {},
   "source": [
    "### Train Logistic Regression Model"
   ]
  },
  {
   "cell_type": "markdown",
   "id": "7fbf8630",
   "metadata": {},
   "source": [
    "- 1. Train-Fit Model over the `X_train_oh` (OHE obtained **after** splitting)"
   ]
  },
  {
   "cell_type": "code",
   "execution_count": 49,
   "id": "7eb57f33",
   "metadata": {
    "scrolled": false
   },
   "outputs": [
    {
     "data": {
      "text/html": [
       "<style>#sk-container-id-3 {color: black;}#sk-container-id-3 pre{padding: 0;}#sk-container-id-3 div.sk-toggleable {background-color: white;}#sk-container-id-3 label.sk-toggleable__label {cursor: pointer;display: block;width: 100%;margin-bottom: 0;padding: 0.3em;box-sizing: border-box;text-align: center;}#sk-container-id-3 label.sk-toggleable__label-arrow:before {content: \"▸\";float: left;margin-right: 0.25em;color: #696969;}#sk-container-id-3 label.sk-toggleable__label-arrow:hover:before {color: black;}#sk-container-id-3 div.sk-estimator:hover label.sk-toggleable__label-arrow:before {color: black;}#sk-container-id-3 div.sk-toggleable__content {max-height: 0;max-width: 0;overflow: hidden;text-align: left;background-color: #f0f8ff;}#sk-container-id-3 div.sk-toggleable__content pre {margin: 0.2em;color: black;border-radius: 0.25em;background-color: #f0f8ff;}#sk-container-id-3 input.sk-toggleable__control:checked~div.sk-toggleable__content {max-height: 200px;max-width: 100%;overflow: auto;}#sk-container-id-3 input.sk-toggleable__control:checked~label.sk-toggleable__label-arrow:before {content: \"▾\";}#sk-container-id-3 div.sk-estimator input.sk-toggleable__control:checked~label.sk-toggleable__label {background-color: #d4ebff;}#sk-container-id-3 div.sk-label input.sk-toggleable__control:checked~label.sk-toggleable__label {background-color: #d4ebff;}#sk-container-id-3 input.sk-hidden--visually {border: 0;clip: rect(1px 1px 1px 1px);clip: rect(1px, 1px, 1px, 1px);height: 1px;margin: -1px;overflow: hidden;padding: 0;position: absolute;width: 1px;}#sk-container-id-3 div.sk-estimator {font-family: monospace;background-color: #f0f8ff;border: 1px dotted black;border-radius: 0.25em;box-sizing: border-box;margin-bottom: 0.5em;}#sk-container-id-3 div.sk-estimator:hover {background-color: #d4ebff;}#sk-container-id-3 div.sk-parallel-item::after {content: \"\";width: 100%;border-bottom: 1px solid gray;flex-grow: 1;}#sk-container-id-3 div.sk-label:hover label.sk-toggleable__label {background-color: #d4ebff;}#sk-container-id-3 div.sk-serial::before {content: \"\";position: absolute;border-left: 1px solid gray;box-sizing: border-box;top: 0;bottom: 0;left: 50%;z-index: 0;}#sk-container-id-3 div.sk-serial {display: flex;flex-direction: column;align-items: center;background-color: white;padding-right: 0.2em;padding-left: 0.2em;position: relative;}#sk-container-id-3 div.sk-item {position: relative;z-index: 1;}#sk-container-id-3 div.sk-parallel {display: flex;align-items: stretch;justify-content: center;background-color: white;position: relative;}#sk-container-id-3 div.sk-item::before, #sk-container-id-3 div.sk-parallel-item::before {content: \"\";position: absolute;border-left: 1px solid gray;box-sizing: border-box;top: 0;bottom: 0;left: 50%;z-index: -1;}#sk-container-id-3 div.sk-parallel-item {display: flex;flex-direction: column;z-index: 1;position: relative;background-color: white;}#sk-container-id-3 div.sk-parallel-item:first-child::after {align-self: flex-end;width: 50%;}#sk-container-id-3 div.sk-parallel-item:last-child::after {align-self: flex-start;width: 50%;}#sk-container-id-3 div.sk-parallel-item:only-child::after {width: 0;}#sk-container-id-3 div.sk-dashed-wrapped {border: 1px dashed gray;margin: 0 0.4em 0.5em 0.4em;box-sizing: border-box;padding-bottom: 0.4em;background-color: white;}#sk-container-id-3 div.sk-label label {font-family: monospace;font-weight: bold;display: inline-block;line-height: 1.2em;}#sk-container-id-3 div.sk-label-container {text-align: center;}#sk-container-id-3 div.sk-container {/* jupyter's `normalize.less` sets `[hidden] { display: none; }` but bootstrap.min.css set `[hidden] { display: none !important; }` so we also need the `!important` here to be able to override the default hidden behavior on the sphinx rendered scikit-learn.org. See: https://github.com/scikit-learn/scikit-learn/issues/21755 */display: inline-block !important;position: relative;}#sk-container-id-3 div.sk-text-repr-fallback {display: none;}</style><div id=\"sk-container-id-3\" class=\"sk-top-container\"><div class=\"sk-text-repr-fallback\"><pre>LogisticRegression(C=10, max_iter=1000, random_state=42, solver=&#x27;liblinear&#x27;)</pre><b>In a Jupyter environment, please rerun this cell to show the HTML representation or trust the notebook. <br />On GitHub, the HTML representation is unable to render, please try loading this page with nbviewer.org.</b></div><div class=\"sk-container\" hidden><div class=\"sk-item\"><div class=\"sk-estimator sk-toggleable\"><input class=\"sk-toggleable__control sk-hidden--visually\" id=\"sk-estimator-id-3\" type=\"checkbox\" checked><label for=\"sk-estimator-id-3\" class=\"sk-toggleable__label sk-toggleable__label-arrow\">LogisticRegression</label><div class=\"sk-toggleable__content\"><pre>LogisticRegression(C=10, max_iter=1000, random_state=42, solver=&#x27;liblinear&#x27;)</pre></div></div></div></div></div>"
      ],
      "text/plain": [
       "LogisticRegression(C=10, max_iter=1000, random_state=42, solver='liblinear')"
      ]
     },
     "execution_count": 49,
     "metadata": {},
     "output_type": "execute_result"
    }
   ],
   "source": [
    "# Instantiate and Fit the Model over X_train_oh\n",
    "model = LogisticRegression(solver='liblinear', C=10, max_iter=1000, random_state=42)\n",
    "model.fit(X_train_oh, y_train.iloc[:,0])"
   ]
  },
  {
   "cell_type": "markdown",
   "id": "00505c73",
   "metadata": {},
   "source": [
    "- 2. Train-Fit Model over `X_train_2` (OHE obtained **before** splitting)"
   ]
  },
  {
   "cell_type": "code",
   "execution_count": 50,
   "id": "08cdcb02",
   "metadata": {
    "scrolled": true
   },
   "outputs": [
    {
     "data": {
      "text/html": [
       "<style>#sk-container-id-4 {color: black;}#sk-container-id-4 pre{padding: 0;}#sk-container-id-4 div.sk-toggleable {background-color: white;}#sk-container-id-4 label.sk-toggleable__label {cursor: pointer;display: block;width: 100%;margin-bottom: 0;padding: 0.3em;box-sizing: border-box;text-align: center;}#sk-container-id-4 label.sk-toggleable__label-arrow:before {content: \"▸\";float: left;margin-right: 0.25em;color: #696969;}#sk-container-id-4 label.sk-toggleable__label-arrow:hover:before {color: black;}#sk-container-id-4 div.sk-estimator:hover label.sk-toggleable__label-arrow:before {color: black;}#sk-container-id-4 div.sk-toggleable__content {max-height: 0;max-width: 0;overflow: hidden;text-align: left;background-color: #f0f8ff;}#sk-container-id-4 div.sk-toggleable__content pre {margin: 0.2em;color: black;border-radius: 0.25em;background-color: #f0f8ff;}#sk-container-id-4 input.sk-toggleable__control:checked~div.sk-toggleable__content {max-height: 200px;max-width: 100%;overflow: auto;}#sk-container-id-4 input.sk-toggleable__control:checked~label.sk-toggleable__label-arrow:before {content: \"▾\";}#sk-container-id-4 div.sk-estimator input.sk-toggleable__control:checked~label.sk-toggleable__label {background-color: #d4ebff;}#sk-container-id-4 div.sk-label input.sk-toggleable__control:checked~label.sk-toggleable__label {background-color: #d4ebff;}#sk-container-id-4 input.sk-hidden--visually {border: 0;clip: rect(1px 1px 1px 1px);clip: rect(1px, 1px, 1px, 1px);height: 1px;margin: -1px;overflow: hidden;padding: 0;position: absolute;width: 1px;}#sk-container-id-4 div.sk-estimator {font-family: monospace;background-color: #f0f8ff;border: 1px dotted black;border-radius: 0.25em;box-sizing: border-box;margin-bottom: 0.5em;}#sk-container-id-4 div.sk-estimator:hover {background-color: #d4ebff;}#sk-container-id-4 div.sk-parallel-item::after {content: \"\";width: 100%;border-bottom: 1px solid gray;flex-grow: 1;}#sk-container-id-4 div.sk-label:hover label.sk-toggleable__label {background-color: #d4ebff;}#sk-container-id-4 div.sk-serial::before {content: \"\";position: absolute;border-left: 1px solid gray;box-sizing: border-box;top: 0;bottom: 0;left: 50%;z-index: 0;}#sk-container-id-4 div.sk-serial {display: flex;flex-direction: column;align-items: center;background-color: white;padding-right: 0.2em;padding-left: 0.2em;position: relative;}#sk-container-id-4 div.sk-item {position: relative;z-index: 1;}#sk-container-id-4 div.sk-parallel {display: flex;align-items: stretch;justify-content: center;background-color: white;position: relative;}#sk-container-id-4 div.sk-item::before, #sk-container-id-4 div.sk-parallel-item::before {content: \"\";position: absolute;border-left: 1px solid gray;box-sizing: border-box;top: 0;bottom: 0;left: 50%;z-index: -1;}#sk-container-id-4 div.sk-parallel-item {display: flex;flex-direction: column;z-index: 1;position: relative;background-color: white;}#sk-container-id-4 div.sk-parallel-item:first-child::after {align-self: flex-end;width: 50%;}#sk-container-id-4 div.sk-parallel-item:last-child::after {align-self: flex-start;width: 50%;}#sk-container-id-4 div.sk-parallel-item:only-child::after {width: 0;}#sk-container-id-4 div.sk-dashed-wrapped {border: 1px dashed gray;margin: 0 0.4em 0.5em 0.4em;box-sizing: border-box;padding-bottom: 0.4em;background-color: white;}#sk-container-id-4 div.sk-label label {font-family: monospace;font-weight: bold;display: inline-block;line-height: 1.2em;}#sk-container-id-4 div.sk-label-container {text-align: center;}#sk-container-id-4 div.sk-container {/* jupyter's `normalize.less` sets `[hidden] { display: none; }` but bootstrap.min.css set `[hidden] { display: none !important; }` so we also need the `!important` here to be able to override the default hidden behavior on the sphinx rendered scikit-learn.org. See: https://github.com/scikit-learn/scikit-learn/issues/21755 */display: inline-block !important;position: relative;}#sk-container-id-4 div.sk-text-repr-fallback {display: none;}</style><div id=\"sk-container-id-4\" class=\"sk-top-container\"><div class=\"sk-text-repr-fallback\"><pre>LogisticRegression(C=10, max_iter=1000, random_state=42, solver=&#x27;liblinear&#x27;)</pre><b>In a Jupyter environment, please rerun this cell to show the HTML representation or trust the notebook. <br />On GitHub, the HTML representation is unable to render, please try loading this page with nbviewer.org.</b></div><div class=\"sk-container\" hidden><div class=\"sk-item\"><div class=\"sk-estimator sk-toggleable\"><input class=\"sk-toggleable__control sk-hidden--visually\" id=\"sk-estimator-id-4\" type=\"checkbox\" checked><label for=\"sk-estimator-id-4\" class=\"sk-toggleable__label sk-toggleable__label-arrow\">LogisticRegression</label><div class=\"sk-toggleable__content\"><pre>LogisticRegression(C=10, max_iter=1000, random_state=42, solver=&#x27;liblinear&#x27;)</pre></div></div></div></div></div>"
      ],
      "text/plain": [
       "LogisticRegression(C=10, max_iter=1000, random_state=42, solver='liblinear')"
      ]
     },
     "execution_count": 50,
     "metadata": {},
     "output_type": "execute_result"
    }
   ],
   "source": [
    "# Instantiate and Fit the Model over X_train_2\n",
    "model_2 = LogisticRegression(solver='liblinear', C=10, max_iter=1000, random_state=42)\n",
    "model_2.fit(X_train_2, y_train_2.iloc[:,0])"
   ]
  },
  {
   "cell_type": "markdown",
   "id": "28f6090c",
   "metadata": {},
   "source": [
    "### Accuracy on the validation dataset"
   ]
  },
  {
   "cell_type": "markdown",
   "id": "6e5701a7",
   "metadata": {},
   "source": [
    "- 1. Accuracy for **`model`**"
   ]
  },
  {
   "cell_type": "code",
   "execution_count": 53,
   "id": "5b7d6a4d",
   "metadata": {},
   "outputs": [
    {
     "data": {
      "text/plain": [
       "(2383, 943)"
      ]
     },
     "execution_count": 53,
     "metadata": {},
     "output_type": "execute_result"
    }
   ],
   "source": [
    "# 1. Apply One-hot encoding to X_val\n",
    "val_dicts = X_val[all_cols].to_dict(orient='records')\n",
    "X_val_oh = dv.transform(val_dicts)\n",
    "X_val_oh.shape"
   ]
  },
  {
   "cell_type": "code",
   "execution_count": 54,
   "id": "5cd7a15f",
   "metadata": {},
   "outputs": [
    {
     "data": {
      "text/plain": [
       "array(['0', '1', '0', ..., '0', '1', '1'], dtype=object)"
      ]
     },
     "execution_count": 54,
     "metadata": {},
     "output_type": "execute_result"
    }
   ],
   "source": [
    "# 2. Predict Values with 'model' on X_val_oh\n",
    "y_pred = model.predict(X_val_oh)\n",
    "y_pred"
   ]
  },
  {
   "cell_type": "code",
   "execution_count": 55,
   "id": "caf5558c",
   "metadata": {},
   "outputs": [
    {
     "name": "stdout",
     "output_type": "stream",
     "text": [
      "0.9345362987830466 0.93\n"
     ]
    }
   ],
   "source": [
    "# 3. Calculate accuracy score for 'model'\n",
    "accuracy = accuracy_score(y_val.iloc[:,0], y_pred)\n",
    "print(accuracy, round(accuracy,2))"
   ]
  },
  {
   "cell_type": "markdown",
   "id": "273c3395",
   "metadata": {},
   "source": [
    "- 2. Accuracy for **`model_2`**"
   ]
  },
  {
   "cell_type": "code",
   "execution_count": 56,
   "id": "45fede50",
   "metadata": {
    "scrolled": true
   },
   "outputs": [
    {
     "data": {
      "text/plain": [
       "array(['0', '1', '0', ..., '0', '1', '1'], dtype=object)"
      ]
     },
     "execution_count": 56,
     "metadata": {},
     "output_type": "execute_result"
    }
   ],
   "source": [
    "# 1. Predict Values with 'model_2' on X_val_2\n",
    "y_pred_2 = model_2.predict(X_val_2)\n",
    "y_pred_2"
   ]
  },
  {
   "cell_type": "code",
   "execution_count": 57,
   "id": "56dec9ff",
   "metadata": {},
   "outputs": [
    {
     "name": "stdout",
     "output_type": "stream",
     "text": [
      "0.9458665547629039, 0.95\n"
     ]
    }
   ],
   "source": [
    "# 2. Calculate 'accuracy_2' score for 'model_2'\n",
    "accuracy_2 = accuracy_score(y_val_2.iloc[:,0], y_pred_2)\n",
    "print(f'{accuracy_2}, {round(accuracy_2,2)}')"
   ]
  },
  {
   "cell_type": "markdown",
   "id": "139dc9d3",
   "metadata": {},
   "source": [
    "- What **accuracy** did you get? = <u>**`0.95`**</u>"
   ]
  },
  {
   "cell_type": "markdown",
   "id": "676e5d6b",
   "metadata": {},
   "source": [
    "# Question 5\n",
    "\n",
    "- Let's find the least useful feature using the feature elimination technique.\n",
    "- Train a model with all these features (using the same parameters as in Q4).\n",
    "- Now exclude each feature from this set and train a model without it. Record the accuracy for each model.\n",
    "- For each feature, calculate the difference between the original accuracy and the accuracy without the feature.\n",
    "- Which of following feature has the **smallest** difference? \\\n",
    "`year` \\\n",
    "`engine_hp` \\\n",
    "<u>**`transmission_type`**</u> \\\n",
    "`city_mpg`"
   ]
  },
  {
   "cell_type": "code",
   "execution_count": 58,
   "id": "999baa73",
   "metadata": {
    "scrolled": true
   },
   "outputs": [
    {
     "name": "stdout",
     "output_type": "stream",
     "text": [
      "For make, difference is: 0.009999999999999898, (0.94)\n",
      "For model, difference is: 0.010000000000000009, (0.92)\n",
      "For year, difference is: 0.019999999999999907, (0.95)\n",
      "For engine_hp, difference is: 0.010000000000000009, (0.92)\n",
      "For engine_cylinders, difference is: 0.009999999999999898, (0.94)\n",
      "For transmission_type, difference is: 0.009999999999999898, (0.94)\n",
      "For vehicle_style, difference is: 0.009999999999999898, (0.94)\n",
      "For highway_mpg, difference is: 0.009999999999999898, (0.94)\n",
      "For city_mpg, difference is: 0.019999999999999907, (0.95)\n"
     ]
    }
   ],
   "source": [
    "orig_score = round(accuracy,2)\n",
    "score_dict = {}\n",
    "\n",
    "for c in all_cols:\n",
    "    subset = all_cols.copy()\n",
    "    subset.remove(c)\n",
    "    \n",
    "    train_dicts_fi = X_train[subset].to_dict(orient='records')\n",
    "\n",
    "    dv = DictVectorizer(sparse=False)\n",
    "    dv.fit(train_dicts_fi)\n",
    "\n",
    "    X_train_oh_fi = dv.transform(train_dicts_fi)\n",
    "\n",
    "    model = LogisticRegression(solver='liblinear', C=1.0, max_iter=1000, random_state=42)\n",
    "    model.fit(X_train_oh_fi, y_train.iloc[:,0])\n",
    "\n",
    "    val_dicts_fi = X_val[subset].to_dict(orient='records')\n",
    "    X_val_oh_fi = dv.transform(val_dicts_fi)\n",
    "\n",
    "    y_pred_fi = model.predict(X_val_oh_fi)\n",
    "\n",
    "    score = round(accuracy_score(y_val.iloc[:,0], y_pred_fi), 2)\n",
    "    score_dict[c] = abs(orig_score - score)\n",
    "    \n",
    "    print(f'For {c}, difference is: {abs(orig_score - score)}, ({score})')"
   ]
  },
  {
   "cell_type": "code",
   "execution_count": 59,
   "id": "ac97bd28",
   "metadata": {},
   "outputs": [
    {
     "data": {
      "text/html": [
       "<div>\n",
       "<style scoped>\n",
       "    .dataframe tbody tr th:only-of-type {\n",
       "        vertical-align: middle;\n",
       "    }\n",
       "\n",
       "    .dataframe tbody tr th {\n",
       "        vertical-align: top;\n",
       "    }\n",
       "\n",
       "    .dataframe thead th {\n",
       "        text-align: right;\n",
       "    }\n",
       "</style>\n",
       "<table border=\"1\" class=\"dataframe\">\n",
       "  <thead>\n",
       "    <tr style=\"text-align: right;\">\n",
       "      <th></th>\n",
       "      <th>0</th>\n",
       "    </tr>\n",
       "  </thead>\n",
       "  <tbody>\n",
       "    <tr>\n",
       "      <th>make</th>\n",
       "      <td>0.01</td>\n",
       "    </tr>\n",
       "    <tr>\n",
       "      <th>engine_cylinders</th>\n",
       "      <td>0.01</td>\n",
       "    </tr>\n",
       "    <tr>\n",
       "      <th>transmission_type</th>\n",
       "      <td>0.01</td>\n",
       "    </tr>\n",
       "    <tr>\n",
       "      <th>vehicle_style</th>\n",
       "      <td>0.01</td>\n",
       "    </tr>\n",
       "    <tr>\n",
       "      <th>highway_mpg</th>\n",
       "      <td>0.01</td>\n",
       "    </tr>\n",
       "    <tr>\n",
       "      <th>model</th>\n",
       "      <td>0.01</td>\n",
       "    </tr>\n",
       "    <tr>\n",
       "      <th>engine_hp</th>\n",
       "      <td>0.01</td>\n",
       "    </tr>\n",
       "    <tr>\n",
       "      <th>year</th>\n",
       "      <td>0.02</td>\n",
       "    </tr>\n",
       "    <tr>\n",
       "      <th>city_mpg</th>\n",
       "      <td>0.02</td>\n",
       "    </tr>\n",
       "  </tbody>\n",
       "</table>\n",
       "</div>"
      ],
      "text/plain": [
       "                      0\n",
       "make               0.01\n",
       "engine_cylinders   0.01\n",
       "transmission_type  0.01\n",
       "vehicle_style      0.01\n",
       "highway_mpg        0.01\n",
       "model              0.01\n",
       "engine_hp          0.01\n",
       "year               0.02\n",
       "city_mpg           0.02"
      ]
     },
     "execution_count": 59,
     "metadata": {},
     "output_type": "execute_result"
    }
   ],
   "source": [
    "diff_score = pd.DataFrame.from_dict(score_dict, orient='index')\n",
    "diff_score.sort_values(by=0)"
   ]
  },
  {
   "cell_type": "markdown",
   "id": "585826c7",
   "metadata": {},
   "source": [
    "- Which of following feature has the **smallest** difference? <u>**`transmission_type`**</u>"
   ]
  },
  {
   "cell_type": "markdown",
   "id": "fc4d3f9e",
   "metadata": {},
   "source": [
    "# Question 6\n",
    "\n",
    "- For this question, we'll see how to use a linear regression model from Scikit-Learn.\n",
    "- We'll need to use the original column `price`. Apply the logarithmic transformation to this column.\n",
    "- Fit the `Ridge` regression model on the training data with a solver `sag`. Set the `seed` to `42`.\n",
    "- This model also has a parameter `alpha`. Let's try the following values: `[0, 0.01, 0.1, 1, 10]`.\n",
    "- Round your `RMSE` scores to 3 decimal digits.\n",
    "- Which of these `alphas` leads to the best **RMSE** on the validation set? \\\n",
    "`0` \\\n",
    "`0.01` \\\n",
    "<u>**`0.1`**</u> \\\n",
    "`1` \\\n",
    "`10`"
   ]
  },
  {
   "cell_type": "markdown",
   "id": "169aa6ac",
   "metadata": {},
   "source": [
    "- Apply the logarithmic transformation to column `price`."
   ]
  },
  {
   "cell_type": "code",
   "execution_count": 60,
   "id": "484a930f",
   "metadata": {},
   "outputs": [
    {
     "data": {
      "text/html": [
       "<div>\n",
       "<style scoped>\n",
       "    .dataframe tbody tr th:only-of-type {\n",
       "        vertical-align: middle;\n",
       "    }\n",
       "\n",
       "    .dataframe tbody tr th {\n",
       "        vertical-align: top;\n",
       "    }\n",
       "\n",
       "    .dataframe thead th {\n",
       "        text-align: right;\n",
       "    }\n",
       "</style>\n",
       "<table border=\"1\" class=\"dataframe\">\n",
       "  <thead>\n",
       "    <tr style=\"text-align: right;\">\n",
       "      <th></th>\n",
       "      <th>make</th>\n",
       "      <th>model</th>\n",
       "      <th>year</th>\n",
       "      <th>engine_hp</th>\n",
       "      <th>engine_cylinders</th>\n",
       "      <th>transmission_type</th>\n",
       "      <th>vehicle_style</th>\n",
       "      <th>highway_mpg</th>\n",
       "      <th>city_mpg</th>\n",
       "      <th>price</th>\n",
       "    </tr>\n",
       "  </thead>\n",
       "  <tbody>\n",
       "    <tr>\n",
       "      <th>0</th>\n",
       "      <td>BMW</td>\n",
       "      <td>1 Series M</td>\n",
       "      <td>2011</td>\n",
       "      <td>335.0</td>\n",
       "      <td>6.0</td>\n",
       "      <td>MANUAL</td>\n",
       "      <td>Coupe</td>\n",
       "      <td>26</td>\n",
       "      <td>19</td>\n",
       "      <td>10.739349</td>\n",
       "    </tr>\n",
       "    <tr>\n",
       "      <th>1</th>\n",
       "      <td>BMW</td>\n",
       "      <td>1 Series</td>\n",
       "      <td>2011</td>\n",
       "      <td>300.0</td>\n",
       "      <td>6.0</td>\n",
       "      <td>MANUAL</td>\n",
       "      <td>Convertible</td>\n",
       "      <td>28</td>\n",
       "      <td>19</td>\n",
       "      <td>10.612779</td>\n",
       "    </tr>\n",
       "    <tr>\n",
       "      <th>2</th>\n",
       "      <td>BMW</td>\n",
       "      <td>1 Series</td>\n",
       "      <td>2011</td>\n",
       "      <td>300.0</td>\n",
       "      <td>6.0</td>\n",
       "      <td>MANUAL</td>\n",
       "      <td>Coupe</td>\n",
       "      <td>28</td>\n",
       "      <td>20</td>\n",
       "      <td>10.500977</td>\n",
       "    </tr>\n",
       "    <tr>\n",
       "      <th>3</th>\n",
       "      <td>BMW</td>\n",
       "      <td>1 Series</td>\n",
       "      <td>2011</td>\n",
       "      <td>230.0</td>\n",
       "      <td>6.0</td>\n",
       "      <td>MANUAL</td>\n",
       "      <td>Coupe</td>\n",
       "      <td>28</td>\n",
       "      <td>18</td>\n",
       "      <td>10.290483</td>\n",
       "    </tr>\n",
       "    <tr>\n",
       "      <th>4</th>\n",
       "      <td>BMW</td>\n",
       "      <td>1 Series</td>\n",
       "      <td>2011</td>\n",
       "      <td>230.0</td>\n",
       "      <td>6.0</td>\n",
       "      <td>MANUAL</td>\n",
       "      <td>Convertible</td>\n",
       "      <td>28</td>\n",
       "      <td>18</td>\n",
       "      <td>10.448744</td>\n",
       "    </tr>\n",
       "    <tr>\n",
       "      <th>...</th>\n",
       "      <td>...</td>\n",
       "      <td>...</td>\n",
       "      <td>...</td>\n",
       "      <td>...</td>\n",
       "      <td>...</td>\n",
       "      <td>...</td>\n",
       "      <td>...</td>\n",
       "      <td>...</td>\n",
       "      <td>...</td>\n",
       "      <td>...</td>\n",
       "    </tr>\n",
       "    <tr>\n",
       "      <th>11909</th>\n",
       "      <td>Acura</td>\n",
       "      <td>ZDX</td>\n",
       "      <td>2012</td>\n",
       "      <td>300.0</td>\n",
       "      <td>6.0</td>\n",
       "      <td>AUTOMATIC</td>\n",
       "      <td>4dr Hatchback</td>\n",
       "      <td>23</td>\n",
       "      <td>16</td>\n",
       "      <td>10.739024</td>\n",
       "    </tr>\n",
       "    <tr>\n",
       "      <th>11910</th>\n",
       "      <td>Acura</td>\n",
       "      <td>ZDX</td>\n",
       "      <td>2012</td>\n",
       "      <td>300.0</td>\n",
       "      <td>6.0</td>\n",
       "      <td>AUTOMATIC</td>\n",
       "      <td>4dr Hatchback</td>\n",
       "      <td>23</td>\n",
       "      <td>16</td>\n",
       "      <td>10.945018</td>\n",
       "    </tr>\n",
       "    <tr>\n",
       "      <th>11911</th>\n",
       "      <td>Acura</td>\n",
       "      <td>ZDX</td>\n",
       "      <td>2012</td>\n",
       "      <td>300.0</td>\n",
       "      <td>6.0</td>\n",
       "      <td>AUTOMATIC</td>\n",
       "      <td>4dr Hatchback</td>\n",
       "      <td>23</td>\n",
       "      <td>16</td>\n",
       "      <td>10.832122</td>\n",
       "    </tr>\n",
       "    <tr>\n",
       "      <th>11912</th>\n",
       "      <td>Acura</td>\n",
       "      <td>ZDX</td>\n",
       "      <td>2013</td>\n",
       "      <td>300.0</td>\n",
       "      <td>6.0</td>\n",
       "      <td>AUTOMATIC</td>\n",
       "      <td>4dr Hatchback</td>\n",
       "      <td>23</td>\n",
       "      <td>16</td>\n",
       "      <td>10.838031</td>\n",
       "    </tr>\n",
       "    <tr>\n",
       "      <th>11913</th>\n",
       "      <td>Lincoln</td>\n",
       "      <td>Zephyr</td>\n",
       "      <td>2006</td>\n",
       "      <td>221.0</td>\n",
       "      <td>6.0</td>\n",
       "      <td>AUTOMATIC</td>\n",
       "      <td>Sedan</td>\n",
       "      <td>26</td>\n",
       "      <td>17</td>\n",
       "      <td>10.274913</td>\n",
       "    </tr>\n",
       "  </tbody>\n",
       "</table>\n",
       "<p>11914 rows × 10 columns</p>\n",
       "</div>"
      ],
      "text/plain": [
       "          make       model  year  engine_hp  engine_cylinders  \\\n",
       "0          BMW  1 Series M  2011      335.0               6.0   \n",
       "1          BMW    1 Series  2011      300.0               6.0   \n",
       "2          BMW    1 Series  2011      300.0               6.0   \n",
       "3          BMW    1 Series  2011      230.0               6.0   \n",
       "4          BMW    1 Series  2011      230.0               6.0   \n",
       "...        ...         ...   ...        ...               ...   \n",
       "11909    Acura         ZDX  2012      300.0               6.0   \n",
       "11910    Acura         ZDX  2012      300.0               6.0   \n",
       "11911    Acura         ZDX  2012      300.0               6.0   \n",
       "11912    Acura         ZDX  2013      300.0               6.0   \n",
       "11913  Lincoln      Zephyr  2006      221.0               6.0   \n",
       "\n",
       "      transmission_type  vehicle_style  highway_mpg  city_mpg      price  \n",
       "0                MANUAL          Coupe           26        19  10.739349  \n",
       "1                MANUAL    Convertible           28        19  10.612779  \n",
       "2                MANUAL          Coupe           28        20  10.500977  \n",
       "3                MANUAL          Coupe           28        18  10.290483  \n",
       "4                MANUAL    Convertible           28        18  10.448744  \n",
       "...                 ...            ...          ...       ...        ...  \n",
       "11909         AUTOMATIC  4dr Hatchback           23        16  10.739024  \n",
       "11910         AUTOMATIC  4dr Hatchback           23        16  10.945018  \n",
       "11911         AUTOMATIC  4dr Hatchback           23        16  10.832122  \n",
       "11912         AUTOMATIC  4dr Hatchback           23        16  10.838031  \n",
       "11913         AUTOMATIC          Sedan           26        17  10.274913  \n",
       "\n",
       "[11914 rows x 10 columns]"
      ]
     },
     "execution_count": 60,
     "metadata": {},
     "output_type": "execute_result"
    }
   ],
   "source": [
    "# 1. Make a copy of the orginal dataset\n",
    "dff_log = dff.copy()\n",
    "# 2. Apply the log transformation\n",
    "dff_log['price'] = np.log1p(dff_log['price'])\n",
    "dff_log"
   ]
  },
  {
   "cell_type": "markdown",
   "id": "778af528",
   "metadata": {},
   "source": [
    "- One-Hot Encoding of the datasets with `DictVectorizer`"
   ]
  },
  {
   "cell_type": "code",
   "execution_count": 62,
   "id": "d3096925",
   "metadata": {},
   "outputs": [],
   "source": [
    "# Define the 'target' variable, the 'X' & 'y' dataframes\n",
    "target = [\"price\"]\n",
    "X_rr = dff_log.drop(target, axis=1)\n",
    "y_rr = dff_log[target]\n",
    "\n",
    "# Use the train_test_split function of scikit-learn to split dataframes 'X' & 'y'\n",
    "X_tv, X_test_rr, y_tv, y_test_rr = train_test_split(X_rr, y_rr, test_size=0.2, random_state=42) \n",
    "# X_0 & y_0 are then splitted into train/val subsets\n",
    "X_train_rr, X_val_rr, y_train_rr, y_val_rr = train_test_split(X_tv, y_tv, test_size=0.25, random_state=42)\n",
    "\n",
    "# Reset the index of the train/validation/test subsets\n",
    "X_train_rr = X_train_rr.reset_index(drop=True)\n",
    "X_val_rr = X_val_rr.reset_index(drop=True)\n",
    "X_test_rr = X_test_rr.reset_index(drop=True)\n",
    "\n",
    "# Dictionary for the X_train set\n",
    "train_dicts_rr = X_train_rr[all_cols].to_dict(orient='records')\n",
    "\n",
    "# Apply One-hot encoding to X_train\n",
    "dv_rr = DictVectorizer(sparse=True)\n",
    "X_tr_rr_oh = dv_rr.fit_transform(train_dicts_rr)\n",
    "\n",
    "# Apply One-hot encoding to X_val\n",
    "val_dicts_rr = X_val_rr[all_cols].to_dict(orient='records')\n",
    "X_vl_rr_oh = dv_rr.transform(val_dicts_rr)"
   ]
  },
  {
   "cell_type": "code",
   "execution_count": 63,
   "id": "5bdd7f95",
   "metadata": {},
   "outputs": [
    {
     "data": {
      "text/plain": [
       "((2383, 943), (7148, 943), (2383, 1), (7148, 1))"
      ]
     },
     "execution_count": 63,
     "metadata": {},
     "output_type": "execute_result"
    }
   ],
   "source": [
    "X_vl_rr_oh.shape, X_tr_rr_oh.shape, y_val_rr.shape, y_train_rr.shape"
   ]
  },
  {
   "cell_type": "markdown",
   "id": "9ed3c416",
   "metadata": {},
   "source": [
    "- Fit the `Ridge` regression model on the training data with a solver `sag`. Set the `seed` to `42`."
   ]
  },
  {
   "cell_type": "code",
   "execution_count": 64,
   "id": "adb9aff4",
   "metadata": {
    "scrolled": false
   },
   "outputs": [
    {
     "name": "stdout",
     "output_type": "stream",
     "text": [
      "alpha:0, rmse:0.255\n",
      "alpha:0.01, rmse:0.255\n",
      "alpha:0.1, rmse:0.251\n",
      "alpha:1, rmse:0.258\n",
      "alpha:10, rmse:0.336\n"
     ]
    }
   ],
   "source": [
    "# Instantiate & Fit Ridge Model with different 'alpha' values\n",
    "rmse_dict0 = {}\n",
    "for a in [0, 0.01, 0.1, 1, 10]:\n",
    "    model_rr = Ridge(alpha=a, solver=\"sag\", random_state=42)\n",
    "    model_rr.fit(X_tr_rr_oh, y_train_rr.iloc[:,0])\n",
    "    \n",
    "    y_pr_rr = model_rr.predict(X_vl_rr_oh)\n",
    "    \n",
    "    score_rr0 = np.sqrt(mean_squared_error(y_val_rr.iloc[:,0], y_pr_rr))\n",
    "    rmse_dict0[a] = round(score_rr0, 3)\n",
    "    \n",
    "    print(f'alpha:{a}, rmse:{round(score_rr0, 3)}')"
   ]
  },
  {
   "cell_type": "code",
   "execution_count": 65,
   "id": "acf12c33",
   "metadata": {
    "scrolled": true
   },
   "outputs": [
    {
     "data": {
      "text/html": [
       "<div>\n",
       "<style scoped>\n",
       "    .dataframe tbody tr th:only-of-type {\n",
       "        vertical-align: middle;\n",
       "    }\n",
       "\n",
       "    .dataframe tbody tr th {\n",
       "        vertical-align: top;\n",
       "    }\n",
       "\n",
       "    .dataframe thead th {\n",
       "        text-align: right;\n",
       "    }\n",
       "</style>\n",
       "<table border=\"1\" class=\"dataframe\">\n",
       "  <thead>\n",
       "    <tr style=\"text-align: right;\">\n",
       "      <th></th>\n",
       "      <th>0</th>\n",
       "    </tr>\n",
       "  </thead>\n",
       "  <tbody>\n",
       "    <tr>\n",
       "      <th>0.10</th>\n",
       "      <td>0.251</td>\n",
       "    </tr>\n",
       "    <tr>\n",
       "      <th>0.00</th>\n",
       "      <td>0.255</td>\n",
       "    </tr>\n",
       "    <tr>\n",
       "      <th>0.01</th>\n",
       "      <td>0.255</td>\n",
       "    </tr>\n",
       "    <tr>\n",
       "      <th>1.00</th>\n",
       "      <td>0.258</td>\n",
       "    </tr>\n",
       "    <tr>\n",
       "      <th>10.00</th>\n",
       "      <td>0.336</td>\n",
       "    </tr>\n",
       "  </tbody>\n",
       "</table>\n",
       "</div>"
      ],
      "text/plain": [
       "           0\n",
       "0.10   0.251\n",
       "0.00   0.255\n",
       "0.01   0.255\n",
       "1.00   0.258\n",
       "10.00  0.336"
      ]
     },
     "execution_count": 65,
     "metadata": {},
     "output_type": "execute_result"
    }
   ],
   "source": [
    "df_rmse0 = pd.DataFrame.from_dict(rmse_dict0, orient='index')\n",
    "df_rmse0.sort_values(by=0)"
   ]
  },
  {
   "cell_type": "markdown",
   "id": "e4fd86f4",
   "metadata": {},
   "source": [
    "- Scaling the numerical features with `MinMaxScaler`, and One-Hot Encoding with Scikit-Learn `OneHotEncoder`"
   ]
  },
  {
   "cell_type": "code",
   "execution_count": 66,
   "id": "0d3794e4",
   "metadata": {},
   "outputs": [],
   "source": [
    "from sklearn.preprocessing import StandardScaler\n",
    "from sklearn.preprocessing import MinMaxScaler\n",
    "from sklearn.preprocessing import OneHotEncoder"
   ]
  },
  {
   "cell_type": "code",
   "execution_count": 67,
   "id": "50dabe17",
   "metadata": {
    "scrolled": true
   },
   "outputs": [
    {
     "data": {
      "text/plain": [
       "['year', 'engine_hp', 'engine_cylinders', 'highway_mpg', 'city_mpg']"
      ]
     },
     "execution_count": 67,
     "metadata": {},
     "output_type": "execute_result"
    }
   ],
   "source": [
    "num_cols = X_train_rr.select_dtypes(include=['int64','float64']).columns.tolist()\n",
    "num_cols"
   ]
  },
  {
   "cell_type": "code",
   "execution_count": 68,
   "id": "4830faa1",
   "metadata": {
    "scrolled": true
   },
   "outputs": [
    {
     "data": {
      "text/plain": [
       "['make', 'model', 'transmission_type', 'vehicle_style']"
      ]
     },
     "execution_count": 68,
     "metadata": {},
     "output_type": "execute_result"
    }
   ],
   "source": [
    "cat_cols"
   ]
  },
  {
   "cell_type": "code",
   "execution_count": 69,
   "id": "82959764",
   "metadata": {},
   "outputs": [],
   "source": [
    "# Instantiate scaler\n",
    "scaler = MinMaxScaler()\n",
    "X_train_num = scaler.fit_transform(X_train_rr[num_cols].values)\n",
    "\n",
    "# Instantiate OneHotEncoder\n",
    "ohe = OneHotEncoder(sparse_output=False, handle_unknown='ignore')\n",
    "X_train_cat = ohe.fit_transform(X_train_rr[cat_cols].values)"
   ]
  },
  {
   "cell_type": "code",
   "execution_count": 70,
   "id": "c2f08218",
   "metadata": {},
   "outputs": [],
   "source": [
    "# Concatenate X_train_num & X_train_cat\n",
    "X_train_sc = np.column_stack([X_train_num, X_train_cat])"
   ]
  },
  {
   "cell_type": "code",
   "execution_count": 71,
   "id": "190feb98",
   "metadata": {},
   "outputs": [],
   "source": [
    "# Apply transformers to X_val\n",
    "X_val_num = scaler.transform(X_val_rr[num_cols].values)\n",
    "X_val_cat = ohe.transform(X_val_rr[cat_cols].values)\n",
    "X_val_sc = np.column_stack([X_val_num, X_val_cat])"
   ]
  },
  {
   "cell_type": "code",
   "execution_count": 72,
   "id": "4a366fce",
   "metadata": {},
   "outputs": [
    {
     "name": "stdout",
     "output_type": "stream",
     "text": [
      "alpha:0, rmse:0.231\n",
      "alpha:0.01, rmse:0.224\n",
      "alpha:0.1, rmse:0.215\n",
      "alpha:1, rmse:0.23\n",
      "alpha:10, rmse:0.323\n"
     ]
    }
   ],
   "source": [
    "# Instantiate & Fit Ridge Model with different 'alpha' values\n",
    "rmse_dict = {}\n",
    "for alpha in [0, 0.01, 0.1, 1, 10]:\n",
    "    model_rr2 = Ridge(alpha=alpha, solver=\"sag\", random_state=42)\n",
    "    model_rr2.fit(X_train_sc, y_train_rr.iloc[:,0])\n",
    "    \n",
    "    y_pred_rr_sc = model_rr2.predict(X_val_sc)\n",
    "    \n",
    "    rmse_score = np.sqrt(mean_squared_error(y_val_rr.iloc[:,0], y_pred_rr_sc))\n",
    "    rmse_dict[alpha] = round(rmse_score, 3)\n",
    "    \n",
    "    print(f'alpha:{alpha}, rmse:{round(rmse_score,3)}')"
   ]
  },
  {
   "cell_type": "code",
   "execution_count": 73,
   "id": "494497d6",
   "metadata": {},
   "outputs": [
    {
     "data": {
      "text/html": [
       "<div>\n",
       "<style scoped>\n",
       "    .dataframe tbody tr th:only-of-type {\n",
       "        vertical-align: middle;\n",
       "    }\n",
       "\n",
       "    .dataframe tbody tr th {\n",
       "        vertical-align: top;\n",
       "    }\n",
       "\n",
       "    .dataframe thead th {\n",
       "        text-align: right;\n",
       "    }\n",
       "</style>\n",
       "<table border=\"1\" class=\"dataframe\">\n",
       "  <thead>\n",
       "    <tr style=\"text-align: right;\">\n",
       "      <th></th>\n",
       "      <th>0</th>\n",
       "    </tr>\n",
       "  </thead>\n",
       "  <tbody>\n",
       "    <tr>\n",
       "      <th>0.10</th>\n",
       "      <td>0.215</td>\n",
       "    </tr>\n",
       "    <tr>\n",
       "      <th>0.01</th>\n",
       "      <td>0.224</td>\n",
       "    </tr>\n",
       "    <tr>\n",
       "      <th>1.00</th>\n",
       "      <td>0.230</td>\n",
       "    </tr>\n",
       "    <tr>\n",
       "      <th>0.00</th>\n",
       "      <td>0.231</td>\n",
       "    </tr>\n",
       "    <tr>\n",
       "      <th>10.00</th>\n",
       "      <td>0.323</td>\n",
       "    </tr>\n",
       "  </tbody>\n",
       "</table>\n",
       "</div>"
      ],
      "text/plain": [
       "           0\n",
       "0.10   0.215\n",
       "0.01   0.224\n",
       "1.00   0.230\n",
       "0.00   0.231\n",
       "10.00  0.323"
      ]
     },
     "execution_count": 73,
     "metadata": {},
     "output_type": "execute_result"
    }
   ],
   "source": [
    "df_rmse = pd.DataFrame.from_dict(rmse_dict, orient='index')\n",
    "df_rmse.sort_values(by=0)"
   ]
  },
  {
   "cell_type": "markdown",
   "id": "99d06a15",
   "metadata": {},
   "source": [
    "- Which of these `alphas` leads to the best **RMSE** on the validation set? = <u>**`0.1`**</u>"
   ]
  }
 ],
 "metadata": {
  "kernelspec": {
   "display_name": "Python 3 (ipykernel)",
   "language": "python",
   "name": "python3"
  },
  "language_info": {
   "codemirror_mode": {
    "name": "ipython",
    "version": 3
   },
   "file_extension": ".py",
   "mimetype": "text/x-python",
   "name": "python",
   "nbconvert_exporter": "python",
   "pygments_lexer": "ipython3",
   "version": "3.10.13"
  }
 },
 "nbformat": 4,
 "nbformat_minor": 5
}
