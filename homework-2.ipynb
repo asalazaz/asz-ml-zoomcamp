{
 "cells": [
  {
   "cell_type": "markdown",
   "id": "a220f65e",
   "metadata": {},
   "source": [
    "# HW-2 - Regression\n",
    "\n",
    "The goal of this homework is to create a regression model for predicting housing prices (column `median_house_value`)."
   ]
  },
  {
   "cell_type": "markdown",
   "id": "359c8048",
   "metadata": {},
   "source": [
    "## 1. Import the libraries"
   ]
  },
  {
   "cell_type": "code",
   "execution_count": 1,
   "id": "4d712f15",
   "metadata": {},
   "outputs": [],
   "source": [
    "import pandas as pd\n",
    "import numpy as np\n",
    "import seaborn as sns\n",
    "import matplotlib.pyplot as plt\n",
    "from sklearn.linear_model import LinearRegression\n",
    "from sklearn.model_selection import train_test_split"
   ]
  },
  {
   "cell_type": "markdown",
   "id": "1784ebe6",
   "metadata": {},
   "source": [
    "## 2. Import dataset"
   ]
  },
  {
   "cell_type": "code",
   "execution_count": 2,
   "id": "9468c95a",
   "metadata": {},
   "outputs": [],
   "source": [
    "dff = pd.read_csv(\"https://raw.githubusercontent.com/alexeygrigorev/datasets/master/housing.csv\")"
   ]
  },
  {
   "cell_type": "code",
   "execution_count": 3,
   "id": "bdff3345",
   "metadata": {},
   "outputs": [
    {
     "name": "stdout",
     "output_type": "stream",
     "text": [
      "<class 'pandas.core.frame.DataFrame'>\n",
      "RangeIndex: 20640 entries, 0 to 20639\n",
      "Data columns (total 10 columns):\n",
      " #   Column              Non-Null Count  Dtype  \n",
      "---  ------              --------------  -----  \n",
      " 0   longitude           20640 non-null  float64\n",
      " 1   latitude            20640 non-null  float64\n",
      " 2   housing_median_age  20640 non-null  float64\n",
      " 3   total_rooms         20640 non-null  float64\n",
      " 4   total_bedrooms      20433 non-null  float64\n",
      " 5   population          20640 non-null  float64\n",
      " 6   households          20640 non-null  float64\n",
      " 7   median_income       20640 non-null  float64\n",
      " 8   median_house_value  20640 non-null  float64\n",
      " 9   ocean_proximity     20640 non-null  object \n",
      "dtypes: float64(9), object(1)\n",
      "memory usage: 1.6+ MB\n"
     ]
    }
   ],
   "source": [
    "dff.info()"
   ]
  },
  {
   "cell_type": "code",
   "execution_count": 4,
   "id": "8474d207",
   "metadata": {},
   "outputs": [
    {
     "data": {
      "text/html": [
       "<div>\n",
       "<style scoped>\n",
       "    .dataframe tbody tr th:only-of-type {\n",
       "        vertical-align: middle;\n",
       "    }\n",
       "\n",
       "    .dataframe tbody tr th {\n",
       "        vertical-align: top;\n",
       "    }\n",
       "\n",
       "    .dataframe thead th {\n",
       "        text-align: right;\n",
       "    }\n",
       "</style>\n",
       "<table border=\"1\" class=\"dataframe\">\n",
       "  <thead>\n",
       "    <tr style=\"text-align: right;\">\n",
       "      <th></th>\n",
       "      <th>longitude</th>\n",
       "      <th>latitude</th>\n",
       "      <th>housing_median_age</th>\n",
       "      <th>total_rooms</th>\n",
       "      <th>total_bedrooms</th>\n",
       "      <th>population</th>\n",
       "      <th>households</th>\n",
       "      <th>median_income</th>\n",
       "      <th>median_house_value</th>\n",
       "      <th>ocean_proximity</th>\n",
       "    </tr>\n",
       "  </thead>\n",
       "  <tbody>\n",
       "    <tr>\n",
       "      <th>0</th>\n",
       "      <td>-122.23</td>\n",
       "      <td>37.88</td>\n",
       "      <td>41.0</td>\n",
       "      <td>880.0</td>\n",
       "      <td>129.0</td>\n",
       "      <td>322.0</td>\n",
       "      <td>126.0</td>\n",
       "      <td>8.3252</td>\n",
       "      <td>452600.0</td>\n",
       "      <td>NEAR BAY</td>\n",
       "    </tr>\n",
       "    <tr>\n",
       "      <th>1</th>\n",
       "      <td>-122.22</td>\n",
       "      <td>37.86</td>\n",
       "      <td>21.0</td>\n",
       "      <td>7099.0</td>\n",
       "      <td>1106.0</td>\n",
       "      <td>2401.0</td>\n",
       "      <td>1138.0</td>\n",
       "      <td>8.3014</td>\n",
       "      <td>358500.0</td>\n",
       "      <td>NEAR BAY</td>\n",
       "    </tr>\n",
       "    <tr>\n",
       "      <th>2</th>\n",
       "      <td>-122.24</td>\n",
       "      <td>37.85</td>\n",
       "      <td>52.0</td>\n",
       "      <td>1467.0</td>\n",
       "      <td>190.0</td>\n",
       "      <td>496.0</td>\n",
       "      <td>177.0</td>\n",
       "      <td>7.2574</td>\n",
       "      <td>352100.0</td>\n",
       "      <td>NEAR BAY</td>\n",
       "    </tr>\n",
       "    <tr>\n",
       "      <th>3</th>\n",
       "      <td>-122.25</td>\n",
       "      <td>37.85</td>\n",
       "      <td>52.0</td>\n",
       "      <td>1274.0</td>\n",
       "      <td>235.0</td>\n",
       "      <td>558.0</td>\n",
       "      <td>219.0</td>\n",
       "      <td>5.6431</td>\n",
       "      <td>341300.0</td>\n",
       "      <td>NEAR BAY</td>\n",
       "    </tr>\n",
       "    <tr>\n",
       "      <th>4</th>\n",
       "      <td>-122.25</td>\n",
       "      <td>37.85</td>\n",
       "      <td>52.0</td>\n",
       "      <td>1627.0</td>\n",
       "      <td>280.0</td>\n",
       "      <td>565.0</td>\n",
       "      <td>259.0</td>\n",
       "      <td>3.8462</td>\n",
       "      <td>342200.0</td>\n",
       "      <td>NEAR BAY</td>\n",
       "    </tr>\n",
       "  </tbody>\n",
       "</table>\n",
       "</div>"
      ],
      "text/plain": [
       "   longitude  latitude  housing_median_age  total_rooms  total_bedrooms  \\\n",
       "0    -122.23     37.88                41.0        880.0           129.0   \n",
       "1    -122.22     37.86                21.0       7099.0          1106.0   \n",
       "2    -122.24     37.85                52.0       1467.0           190.0   \n",
       "3    -122.25     37.85                52.0       1274.0           235.0   \n",
       "4    -122.25     37.85                52.0       1627.0           280.0   \n",
       "\n",
       "   population  households  median_income  median_house_value ocean_proximity  \n",
       "0       322.0       126.0         8.3252            452600.0        NEAR BAY  \n",
       "1      2401.0      1138.0         8.3014            358500.0        NEAR BAY  \n",
       "2       496.0       177.0         7.2574            352100.0        NEAR BAY  \n",
       "3       558.0       219.0         5.6431            341300.0        NEAR BAY  \n",
       "4       565.0       259.0         3.8462            342200.0        NEAR BAY  "
      ]
     },
     "execution_count": 4,
     "metadata": {},
     "output_type": "execute_result"
    }
   ],
   "source": [
    "dff.head()"
   ]
  },
  {
   "cell_type": "markdown",
   "id": "d3753535",
   "metadata": {},
   "source": [
    "## 3. EDA\n",
    "- Look at the median_house_value variable. Does it have a long tail?"
   ]
  },
  {
   "cell_type": "code",
   "execution_count": 5,
   "id": "06648f84",
   "metadata": {
    "scrolled": true
   },
   "outputs": [
    {
     "data": {
      "image/png": "[encoded data removed]",
      "text/plain": [
       "<Figure size 500x300 with 1 Axes>"
      ]
     },
     "metadata": {},
     "output_type": "display_data"
    }
   ],
   "source": [
    "plt.figure(figsize=(5,3))\n",
    "dff[\"median_house_value\"].hist(bins=20);"
   ]
  },
  {
   "cell_type": "markdown",
   "id": "a345f01d",
   "metadata": {},
   "source": [
    "### Preparing the dataset\n",
    "- First, keep only the records where `ocean_proximity` is either `<1H OCEAN` or `INLAND`"
   ]
  },
  {
   "cell_type": "code",
   "execution_count": 6,
   "id": "f4099d5d",
   "metadata": {},
   "outputs": [
    {
     "data": {
      "text/plain": [
       "ocean_proximity\n",
       "<1H OCEAN     9136\n",
       "INLAND        6551\n",
       "NEAR OCEAN    2658\n",
       "NEAR BAY      2290\n",
       "ISLAND           5\n",
       "Name: count, dtype: int64"
      ]
     },
     "execution_count": 6,
     "metadata": {},
     "output_type": "execute_result"
    }
   ],
   "source": [
    "dff[\"ocean_proximity\"].value_counts()"
   ]
  },
  {
   "cell_type": "code",
   "execution_count": 7,
   "id": "5294d3ef",
   "metadata": {},
   "outputs": [
    {
     "data": {
      "text/plain": [
       "15687"
      ]
     },
     "execution_count": 7,
     "metadata": {},
     "output_type": "execute_result"
    }
   ],
   "source": [
    "# Create the filter for 'ocean_proximity'\n",
    "mask = (dff[\"ocean_proximity\"] == \"<1H OCEAN\") + (dff[\"ocean_proximity\"] == \"INLAND\")\n",
    "len(dff[mask]) # Validate number of rows for the filter"
   ]
  },
  {
   "cell_type": "code",
   "execution_count": 8,
   "id": "576a8120",
   "metadata": {},
   "outputs": [
    {
     "name": "stdout",
     "output_type": "stream",
     "text": [
      "<class 'pandas.core.frame.DataFrame'>\n",
      "Index: 15687 entries, 701 to 20639\n",
      "Data columns (total 10 columns):\n",
      " #   Column              Non-Null Count  Dtype  \n",
      "---  ------              --------------  -----  \n",
      " 0   longitude           15687 non-null  float64\n",
      " 1   latitude            15687 non-null  float64\n",
      " 2   housing_median_age  15687 non-null  float64\n",
      " 3   total_rooms         15687 non-null  float64\n",
      " 4   total_bedrooms      15530 non-null  float64\n",
      " 5   population          15687 non-null  float64\n",
      " 6   households          15687 non-null  float64\n",
      " 7   median_income       15687 non-null  float64\n",
      " 8   median_house_value  15687 non-null  float64\n",
      " 9   ocean_proximity     15687 non-null  object \n",
      "dtypes: float64(9), object(1)\n",
      "memory usage: 1.3+ MB\n"
     ]
    }
   ],
   "source": [
    "# Apply the filter for 'ocean_proximity' in a new dataset df_filter\n",
    "df_filter = dff[mask]\n",
    "df_filter.info() # Validate structure of the dataset"
   ]
  },
  {
   "cell_type": "markdown",
   "id": "ae881a1c",
   "metadata": {},
   "source": [
    "- Next, use only the following columns:\n",
    "\n",
    "`['latitude', 'longitude', 'housing_median_age', 'total_rooms', 'total_bedrooms', 'population', 'households', 'median_income', 'median_house_value']`"
   ]
  },
  {
   "cell_type": "code",
   "execution_count": 9,
   "id": "75cb1331",
   "metadata": {},
   "outputs": [
    {
     "name": "stdout",
     "output_type": "stream",
     "text": [
      "(15687, 9)\n"
     ]
    },
    {
     "name": "stderr",
     "output_type": "stream",
     "text": [
      "C:\\Users\\Anderson\\AppData\\Local\\Temp\\ipykernel_9860\\1984840822.py:1: UserWarning: Boolean Series key will be reindexed to match DataFrame index.\n",
      "  df = df_filter[mask][[\n"
     ]
    },
    {
     "data": {
      "text/html": [
       "<div>\n",
       "<style scoped>\n",
       "    .dataframe tbody tr th:only-of-type {\n",
       "        vertical-align: middle;\n",
       "    }\n",
       "\n",
       "    .dataframe tbody tr th {\n",
       "        vertical-align: top;\n",
       "    }\n",
       "\n",
       "    .dataframe thead th {\n",
       "        text-align: right;\n",
       "    }\n",
       "</style>\n",
       "<table border=\"1\" class=\"dataframe\">\n",
       "  <thead>\n",
       "    <tr style=\"text-align: right;\">\n",
       "      <th></th>\n",
       "      <th>latitude</th>\n",
       "      <th>longitude</th>\n",
       "      <th>housing_median_age</th>\n",
       "      <th>total_rooms</th>\n",
       "      <th>total_bedrooms</th>\n",
       "      <th>population</th>\n",
       "      <th>households</th>\n",
       "      <th>median_income</th>\n",
       "      <th>median_house_value</th>\n",
       "    </tr>\n",
       "  </thead>\n",
       "  <tbody>\n",
       "    <tr>\n",
       "      <th>701</th>\n",
       "      <td>37.64</td>\n",
       "      <td>-121.97</td>\n",
       "      <td>32.0</td>\n",
       "      <td>1283.0</td>\n",
       "      <td>194.0</td>\n",
       "      <td>485.0</td>\n",
       "      <td>171.0</td>\n",
       "      <td>6.0574</td>\n",
       "      <td>431000.0</td>\n",
       "    </tr>\n",
       "    <tr>\n",
       "      <th>830</th>\n",
       "      <td>37.61</td>\n",
       "      <td>-121.99</td>\n",
       "      <td>9.0</td>\n",
       "      <td>3666.0</td>\n",
       "      <td>711.0</td>\n",
       "      <td>2341.0</td>\n",
       "      <td>703.0</td>\n",
       "      <td>4.6458</td>\n",
       "      <td>217000.0</td>\n",
       "    </tr>\n",
       "    <tr>\n",
       "      <th>859</th>\n",
       "      <td>37.57</td>\n",
       "      <td>-121.97</td>\n",
       "      <td>21.0</td>\n",
       "      <td>4342.0</td>\n",
       "      <td>783.0</td>\n",
       "      <td>2172.0</td>\n",
       "      <td>789.0</td>\n",
       "      <td>4.6146</td>\n",
       "      <td>247600.0</td>\n",
       "    </tr>\n",
       "    <tr>\n",
       "      <th>860</th>\n",
       "      <td>37.58</td>\n",
       "      <td>-121.96</td>\n",
       "      <td>15.0</td>\n",
       "      <td>3575.0</td>\n",
       "      <td>597.0</td>\n",
       "      <td>1777.0</td>\n",
       "      <td>559.0</td>\n",
       "      <td>5.7192</td>\n",
       "      <td>283500.0</td>\n",
       "    </tr>\n",
       "    <tr>\n",
       "      <th>861</th>\n",
       "      <td>37.58</td>\n",
       "      <td>-121.98</td>\n",
       "      <td>20.0</td>\n",
       "      <td>4126.0</td>\n",
       "      <td>1031.0</td>\n",
       "      <td>2079.0</td>\n",
       "      <td>975.0</td>\n",
       "      <td>3.6832</td>\n",
       "      <td>216900.0</td>\n",
       "    </tr>\n",
       "  </tbody>\n",
       "</table>\n",
       "</div>"
      ],
      "text/plain": [
       "     latitude  longitude  housing_median_age  total_rooms  total_bedrooms  \\\n",
       "701     37.64    -121.97                32.0       1283.0           194.0   \n",
       "830     37.61    -121.99                 9.0       3666.0           711.0   \n",
       "859     37.57    -121.97                21.0       4342.0           783.0   \n",
       "860     37.58    -121.96                15.0       3575.0           597.0   \n",
       "861     37.58    -121.98                20.0       4126.0          1031.0   \n",
       "\n",
       "     population  households  median_income  median_house_value  \n",
       "701       485.0       171.0         6.0574            431000.0  \n",
       "830      2341.0       703.0         4.6458            217000.0  \n",
       "859      2172.0       789.0         4.6146            247600.0  \n",
       "860      1777.0       559.0         5.7192            283500.0  \n",
       "861      2079.0       975.0         3.6832            216900.0  "
      ]
     },
     "execution_count": 9,
     "metadata": {},
     "output_type": "execute_result"
    }
   ],
   "source": [
    "df = df_filter[mask][[\n",
    "    \"latitude\",\n",
    "    \"longitude\",\n",
    "    \"housing_median_age\",\n",
    "    \"total_rooms\",\n",
    "    \"total_bedrooms\",\n",
    "    \"population\",\n",
    "    \"households\",\n",
    "    \"median_income\",\n",
    "    \"median_house_value\"]]\n",
    "print(df.shape)\n",
    "df.head()"
   ]
  },
  {
   "cell_type": "markdown",
   "id": "2ee36560",
   "metadata": {},
   "source": [
    "## Question 1\n",
    "\n",
    "There's one feature with missing values. What is it? = `total_bedrooms`"
   ]
  },
  {
   "cell_type": "code",
   "execution_count": 10,
   "id": "642b2235",
   "metadata": {},
   "outputs": [
    {
     "data": {
      "text/plain": [
       "latitude                0\n",
       "longitude               0\n",
       "housing_median_age      0\n",
       "total_rooms             0\n",
       "total_bedrooms        157\n",
       "population              0\n",
       "households              0\n",
       "median_income           0\n",
       "median_house_value      0\n",
       "dtype: int64"
      ]
     },
     "execution_count": 10,
     "metadata": {},
     "output_type": "execute_result"
    }
   ],
   "source": [
    "df.isna().sum()"
   ]
  },
  {
   "cell_type": "markdown",
   "id": "2b7e529f",
   "metadata": {},
   "source": [
    "## Question 2\n",
    "What's the median (50% percentile) for variable `population`? = `1195`\n"
   ]
  },
  {
   "cell_type": "code",
   "execution_count": 11,
   "id": "b026c0d3",
   "metadata": {},
   "outputs": [
    {
     "data": {
      "text/plain": [
       "count    15687.000000\n",
       "mean      1466.317205\n",
       "std       1180.389908\n",
       "min          3.000000\n",
       "25%        802.000000\n",
       "50%       1195.000000\n",
       "75%       1777.000000\n",
       "max      35682.000000\n",
       "Name: population, dtype: float64"
      ]
     },
     "execution_count": 11,
     "metadata": {},
     "output_type": "execute_result"
    }
   ],
   "source": [
    "df[\"population\"].describe()"
   ]
  },
  {
   "cell_type": "markdown",
   "id": "fbb5bdf3",
   "metadata": {},
   "source": [
    "### Prepare and split the dataset\n",
    "\n",
    "- Shuffle the dataset (the filtered one you created above), use seed 42.    "
   ]
  },
  {
   "cell_type": "code",
   "execution_count": 12,
   "id": "e2c5fa3e",
   "metadata": {
    "scrolled": true
   },
   "outputs": [
    {
     "data": {
      "text/html": [
       "<div>\n",
       "<style scoped>\n",
       "    .dataframe tbody tr th:only-of-type {\n",
       "        vertical-align: middle;\n",
       "    }\n",
       "\n",
       "    .dataframe tbody tr th {\n",
       "        vertical-align: top;\n",
       "    }\n",
       "\n",
       "    .dataframe thead th {\n",
       "        text-align: right;\n",
       "    }\n",
       "</style>\n",
       "<table border=\"1\" class=\"dataframe\">\n",
       "  <thead>\n",
       "    <tr style=\"text-align: right;\">\n",
       "      <th></th>\n",
       "      <th>latitude</th>\n",
       "      <th>longitude</th>\n",
       "      <th>housing_median_age</th>\n",
       "      <th>total_rooms</th>\n",
       "      <th>total_bedrooms</th>\n",
       "      <th>population</th>\n",
       "      <th>households</th>\n",
       "      <th>median_income</th>\n",
       "      <th>median_house_value</th>\n",
       "    </tr>\n",
       "  </thead>\n",
       "  <tbody>\n",
       "    <tr>\n",
       "      <th>701</th>\n",
       "      <td>37.64</td>\n",
       "      <td>-121.97</td>\n",
       "      <td>32.0</td>\n",
       "      <td>1283.0</td>\n",
       "      <td>194.0</td>\n",
       "      <td>485.0</td>\n",
       "      <td>171.0</td>\n",
       "      <td>6.0574</td>\n",
       "      <td>431000.0</td>\n",
       "    </tr>\n",
       "    <tr>\n",
       "      <th>830</th>\n",
       "      <td>37.61</td>\n",
       "      <td>-121.99</td>\n",
       "      <td>9.0</td>\n",
       "      <td>3666.0</td>\n",
       "      <td>711.0</td>\n",
       "      <td>2341.0</td>\n",
       "      <td>703.0</td>\n",
       "      <td>4.6458</td>\n",
       "      <td>217000.0</td>\n",
       "    </tr>\n",
       "    <tr>\n",
       "      <th>859</th>\n",
       "      <td>37.57</td>\n",
       "      <td>-121.97</td>\n",
       "      <td>21.0</td>\n",
       "      <td>4342.0</td>\n",
       "      <td>783.0</td>\n",
       "      <td>2172.0</td>\n",
       "      <td>789.0</td>\n",
       "      <td>4.6146</td>\n",
       "      <td>247600.0</td>\n",
       "    </tr>\n",
       "    <tr>\n",
       "      <th>860</th>\n",
       "      <td>37.58</td>\n",
       "      <td>-121.96</td>\n",
       "      <td>15.0</td>\n",
       "      <td>3575.0</td>\n",
       "      <td>597.0</td>\n",
       "      <td>1777.0</td>\n",
       "      <td>559.0</td>\n",
       "      <td>5.7192</td>\n",
       "      <td>283500.0</td>\n",
       "    </tr>\n",
       "    <tr>\n",
       "      <th>861</th>\n",
       "      <td>37.58</td>\n",
       "      <td>-121.98</td>\n",
       "      <td>20.0</td>\n",
       "      <td>4126.0</td>\n",
       "      <td>1031.0</td>\n",
       "      <td>2079.0</td>\n",
       "      <td>975.0</td>\n",
       "      <td>3.6832</td>\n",
       "      <td>216900.0</td>\n",
       "    </tr>\n",
       "  </tbody>\n",
       "</table>\n",
       "</div>"
      ],
      "text/plain": [
       "     latitude  longitude  housing_median_age  total_rooms  total_bedrooms  \\\n",
       "701     37.64    -121.97                32.0       1283.0           194.0   \n",
       "830     37.61    -121.99                 9.0       3666.0           711.0   \n",
       "859     37.57    -121.97                21.0       4342.0           783.0   \n",
       "860     37.58    -121.96                15.0       3575.0           597.0   \n",
       "861     37.58    -121.98                20.0       4126.0          1031.0   \n",
       "\n",
       "     population  households  median_income  median_house_value  \n",
       "701       485.0       171.0         6.0574            431000.0  \n",
       "830      2341.0       703.0         4.6458            217000.0  \n",
       "859      2172.0       789.0         4.6146            247600.0  \n",
       "860      1777.0       559.0         5.7192            283500.0  \n",
       "861      2079.0       975.0         3.6832            216900.0  "
      ]
     },
     "execution_count": 12,
     "metadata": {},
     "output_type": "execute_result"
    }
   ],
   "source": [
    "# Dataset before shuffle\n",
    "df.head()"
   ]
  },
  {
   "cell_type": "code",
   "execution_count": 13,
   "id": "708f0a35",
   "metadata": {},
   "outputs": [
    {
     "data": {
      "text/html": [
       "<div>\n",
       "<style scoped>\n",
       "    .dataframe tbody tr th:only-of-type {\n",
       "        vertical-align: middle;\n",
       "    }\n",
       "\n",
       "    .dataframe tbody tr th {\n",
       "        vertical-align: top;\n",
       "    }\n",
       "\n",
       "    .dataframe thead th {\n",
       "        text-align: right;\n",
       "    }\n",
       "</style>\n",
       "<table border=\"1\" class=\"dataframe\">\n",
       "  <thead>\n",
       "    <tr style=\"text-align: right;\">\n",
       "      <th></th>\n",
       "      <th>latitude</th>\n",
       "      <th>longitude</th>\n",
       "      <th>housing_median_age</th>\n",
       "      <th>total_rooms</th>\n",
       "      <th>total_bedrooms</th>\n",
       "      <th>population</th>\n",
       "      <th>households</th>\n",
       "      <th>median_income</th>\n",
       "      <th>median_house_value</th>\n",
       "    </tr>\n",
       "  </thead>\n",
       "  <tbody>\n",
       "    <tr>\n",
       "      <th>19963</th>\n",
       "      <td>36.23</td>\n",
       "      <td>-119.14</td>\n",
       "      <td>22.0</td>\n",
       "      <td>2935.0</td>\n",
       "      <td>523.0</td>\n",
       "      <td>1927.0</td>\n",
       "      <td>530.0</td>\n",
       "      <td>2.5875</td>\n",
       "      <td>70400.0</td>\n",
       "    </tr>\n",
       "    <tr>\n",
       "      <th>5929</th>\n",
       "      <td>34.12</td>\n",
       "      <td>-117.79</td>\n",
       "      <td>16.0</td>\n",
       "      <td>2426.0</td>\n",
       "      <td>426.0</td>\n",
       "      <td>1319.0</td>\n",
       "      <td>446.0</td>\n",
       "      <td>4.8125</td>\n",
       "      <td>224500.0</td>\n",
       "    </tr>\n",
       "    <tr>\n",
       "      <th>11377</th>\n",
       "      <td>33.68</td>\n",
       "      <td>-117.97</td>\n",
       "      <td>26.0</td>\n",
       "      <td>3653.0</td>\n",
       "      <td>568.0</td>\n",
       "      <td>1930.0</td>\n",
       "      <td>585.0</td>\n",
       "      <td>5.7301</td>\n",
       "      <td>260900.0</td>\n",
       "    </tr>\n",
       "    <tr>\n",
       "      <th>6443</th>\n",
       "      <td>34.10</td>\n",
       "      <td>-118.03</td>\n",
       "      <td>32.0</td>\n",
       "      <td>2668.0</td>\n",
       "      <td>609.0</td>\n",
       "      <td>1512.0</td>\n",
       "      <td>541.0</td>\n",
       "      <td>2.9422</td>\n",
       "      <td>233100.0</td>\n",
       "    </tr>\n",
       "    <tr>\n",
       "      <th>17546</th>\n",
       "      <td>37.34</td>\n",
       "      <td>-121.87</td>\n",
       "      <td>39.0</td>\n",
       "      <td>2479.0</td>\n",
       "      <td>541.0</td>\n",
       "      <td>1990.0</td>\n",
       "      <td>506.0</td>\n",
       "      <td>2.4306</td>\n",
       "      <td>289100.0</td>\n",
       "    </tr>\n",
       "  </tbody>\n",
       "</table>\n",
       "</div>"
      ],
      "text/plain": [
       "       latitude  longitude  housing_median_age  total_rooms  total_bedrooms  \\\n",
       "19963     36.23    -119.14                22.0       2935.0           523.0   \n",
       "5929      34.12    -117.79                16.0       2426.0           426.0   \n",
       "11377     33.68    -117.97                26.0       3653.0           568.0   \n",
       "6443      34.10    -118.03                32.0       2668.0           609.0   \n",
       "17546     37.34    -121.87                39.0       2479.0           541.0   \n",
       "\n",
       "       population  households  median_income  median_house_value  \n",
       "19963      1927.0       530.0         2.5875             70400.0  \n",
       "5929       1319.0       446.0         4.8125            224500.0  \n",
       "11377      1930.0       585.0         5.7301            260900.0  \n",
       "6443       1512.0       541.0         2.9422            233100.0  \n",
       "17546      1990.0       506.0         2.4306            289100.0  "
      ]
     },
     "execution_count": 13,
     "metadata": {},
     "output_type": "execute_result"
    }
   ],
   "source": [
    "n = len(df)\n",
    "idx = np.arange(n)\n",
    "np.random.seed(42)\n",
    "np.random.shuffle(idx)\n",
    "df_s = df.iloc[idx]\n",
    "df_s.head() # Dataset after shuffle"
   ]
  },
  {
   "cell_type": "markdown",
   "id": "d7c7f191",
   "metadata": {},
   "source": [
    "- Split your data in train/val/test sets, with 60%/20%/20% distribution."
   ]
  },
  {
   "cell_type": "code",
   "execution_count": 14,
   "id": "a13ec33b",
   "metadata": {},
   "outputs": [
    {
     "name": "stdout",
     "output_type": "stream",
     "text": [
      "(n: 15687),(n_train: 9413), (n_val: 3137), (n_test: 3137)\n"
     ]
    }
   ],
   "source": [
    "# Define the lenght of the train/validation/test subsets\n",
    "n = len(df_s)\n",
    "n_val = int(0.2 * n)\n",
    "n_test = int(0.2 * n)\n",
    "n_train = n - (n_val + n_test)\n",
    "print(f'(n: {n}),(n_train: {n_train}), (n_val: {n_val}), (n_test: {n_test})')"
   ]
  },
  {
   "cell_type": "code",
   "execution_count": 15,
   "id": "f0274efb",
   "metadata": {},
   "outputs": [
    {
     "name": "stdout",
     "output_type": "stream",
     "text": [
      "X: (15687, 8), y: (15687, 1), test_size: 0.2, val_size: 0.25\n"
     ]
    }
   ],
   "source": [
    "# Another way of splitting the data\n",
    "target = [\"median_house_value\"] # Define the target column\n",
    "\n",
    "# Define the 'X' & 'y' dataframes for the regression\n",
    "X = df_s.drop(labels=target, axis=1)\n",
    "y = df_s[target]\n",
    "\n",
    "# Define the size of split subsets, before using train_test_split function\n",
    "len_test = 0.2\n",
    "len_val = 0.2/(1 - len_test)\n",
    "print(f'X: {X.shape}, y: {y.shape}, test_size: {len_test}, val_size: {len_val}')"
   ]
  },
  {
   "cell_type": "code",
   "execution_count": 16,
   "id": "994c8bb7",
   "metadata": {
    "scrolled": true
   },
   "outputs": [
    {
     "name": "stdout",
     "output_type": "stream",
     "text": [
      "X_train:(9411, 8), X_val:(3138, 8), X_test:(3138, 8)\n"
     ]
    }
   ],
   "source": [
    "# Use the train_test_split function of scikit-learn to split dataframes 'X' & 'y'\n",
    "X_0, X_test, y_0, y_test_lin = train_test_split(X, y, test_size=len_test, random_state=42, shuffle=False) \n",
    "\n",
    "# X_0 & y_0 are then splitted into train/val subsets\n",
    "X_train, X_val, y_train_lin, y_val_lin = train_test_split(X_0, y_0, test_size=len_val, random_state=42, shuffle=False)\n",
    "\n",
    "print(f'X_train:{X_train.shape}, X_val:{X_val.shape}, X_test:{X_test.shape}')"
   ]
  },
  {
   "cell_type": "code",
   "execution_count": 17,
   "id": "c1312b20",
   "metadata": {},
   "outputs": [],
   "source": [
    "# Reset the index of the train/validation/test subsets\n",
    "X_train = X_train.reset_index(drop=True)\n",
    "X_val = X_val.reset_index(drop=True)\n",
    "X_test = X_test.reset_index(drop=True)"
   ]
  },
  {
   "cell_type": "markdown",
   "id": "4af96bb2",
   "metadata": {},
   "source": [
    "- Apply the log transformation to the `median_house_value` variable using the `np.log1p()` function."
   ]
  },
  {
   "cell_type": "code",
   "execution_count": 18,
   "id": "160ed2f1",
   "metadata": {},
   "outputs": [],
   "source": [
    "y_train = np.log1p(y_train_lin)\n",
    "y_val = np.log1p(y_val_lin)\n",
    "y_test = np.log1p(y_test_lin)"
   ]
  },
  {
   "cell_type": "markdown",
   "id": "9a3d9c9a",
   "metadata": {},
   "source": [
    "## Question 3\n",
    "\n",
    "- We need to deal with missing values for the column from Q1.\n",
    "- We have two options: fill it with `0` or with the `mean` of this variable.\n",
    "- Try both options. For each, train a linear regression model without regularization using the code from the lessons.\n",
    "- For computing the mean, use the training only!\n",
    "- Which option gives better RMSE? = `Both are equally good`"
   ]
  },
  {
   "cell_type": "code",
   "execution_count": 19,
   "id": "0afbae2d",
   "metadata": {
    "scrolled": true
   },
   "outputs": [
    {
     "data": {
      "text/plain": [
       "latitude               0\n",
       "longitude              0\n",
       "housing_median_age     0\n",
       "total_rooms            0\n",
       "total_bedrooms        94\n",
       "population             0\n",
       "households             0\n",
       "median_income          0\n",
       "dtype: int64"
      ]
     },
     "execution_count": 19,
     "metadata": {},
     "output_type": "execute_result"
    }
   ],
   "source": [
    "# Verify NaNs in 'total_bedrooms' column\n",
    "X_train.isna().sum()"
   ]
  },
  {
   "cell_type": "code",
   "execution_count": 20,
   "id": "ab0225f9",
   "metadata": {},
   "outputs": [
    {
     "data": {
      "text/plain": [
       "542.5265643447461"
      ]
     },
     "execution_count": 20,
     "metadata": {},
     "output_type": "execute_result"
    }
   ],
   "source": [
    "# Calculate the 'total_bedrooms' column mean\n",
    "mean_tot_bed_train = X_train[\"total_bedrooms\"].mean()\n",
    "mean_tot_bed_train"
   ]
  },
  {
   "cell_type": "code",
   "execution_count": 21,
   "id": "6eee1d48",
   "metadata": {},
   "outputs": [],
   "source": [
    "# Fill the NaNs values with '0'\n",
    "X_train_0 = X_train.copy()\n",
    "X_val_0 = X_val.copy()\n",
    "X_test_0 = X_test.copy()\n",
    "X_train_0[\"total_bedrooms\"].fillna(value=0, inplace=True)\n",
    "X_val_0[\"total_bedrooms\"].fillna(value=0, inplace=True)\n",
    "X_test_0[\"total_bedrooms\"].fillna(value=0, inplace=True)"
   ]
  },
  {
   "cell_type": "code",
   "execution_count": 22,
   "id": "bf6a6ecd",
   "metadata": {},
   "outputs": [],
   "source": [
    "# Fill the NaNs values with 'mean'\n",
    "X_train_m = X_train.copy()\n",
    "X_val_m = X_val.copy()\n",
    "X_test_m = X_test.copy()\n",
    "X_train_m[\"total_bedrooms\"].fillna(value=mean_tot_bed_train, inplace=True)\n",
    "X_val_m[\"total_bedrooms\"].fillna(value=mean_tot_bed_train, inplace=True)\n",
    "X_test_m[\"total_bedrooms\"].fillna(value=mean_tot_bed_train, inplace=True)"
   ]
  },
  {
   "cell_type": "code",
   "execution_count": 23,
   "id": "f7a4d4f8",
   "metadata": {},
   "outputs": [],
   "source": [
    "# LinReg model using the code from the lessons\n",
    "def train_linear_regression(X, y):\n",
    "    ones = np.ones(X.shape[0])\n",
    "    X = np.column_stack([ones, X])\n",
    "\n",
    "    XTX = X.T.dot(X)\n",
    "    XTX_inv = np.linalg.inv(XTX)\n",
    "    w = XTX_inv.dot(X.T).dot(y)\n",
    "    \n",
    "    return w[0], w[1:]"
   ]
  },
  {
   "cell_type": "markdown",
   "id": "d2e85aac",
   "metadata": {},
   "source": [
    "- Use the validation dataset to evaluate the models and compare the RMSE of each option."
   ]
  },
  {
   "cell_type": "code",
   "execution_count": 24,
   "id": "92065fcf",
   "metadata": {
    "scrolled": true
   },
   "outputs": [],
   "source": [
    "# A.1 Calculate LR model for X_train filled with '0'\n",
    "w0_0, w_0 = train_linear_regression(X_train_0, y_train.values)\n",
    "\n",
    "# A.2 Make predictions over X_val filled with '0' using LR model calculated in A.1\n",
    "y_pred_0 = w0_0 + X_val_0.dot(w_0)"
   ]
  },
  {
   "cell_type": "code",
   "execution_count": 25,
   "id": "da90ba64",
   "metadata": {},
   "outputs": [],
   "source": [
    "# B.1. Calculate LR model for X_train filled with 'mean'\n",
    "w0_m, w_m = train_linear_regression(X_train_0, y_train.values)\n",
    "\n",
    "# B.2. Make predictions over X_val filled with '0' using LR model calculated in B.1\n",
    "y_pred_m = w0_m + X_val_m.dot(w_m)"
   ]
  },
  {
   "cell_type": "markdown",
   "id": "43ad34f4",
   "metadata": {},
   "source": [
    "- Round the RMSE scores to 2 decimal digits using `round(score, 2)`"
   ]
  },
  {
   "cell_type": "code",
   "execution_count": 26,
   "id": "cbb5b94d",
   "metadata": {},
   "outputs": [],
   "source": [
    "# RMSE function\n",
    "def rmse(y, y_pred):\n",
    "    return np.sqrt(((y - y_pred) ** 2).mean())"
   ]
  },
  {
   "cell_type": "code",
   "execution_count": 27,
   "id": "6e0e2468",
   "metadata": {},
   "outputs": [
    {
     "data": {
      "text/plain": [
       "0.34"
      ]
     },
     "execution_count": 27,
     "metadata": {},
     "output_type": "execute_result"
    }
   ],
   "source": [
    "# RMSE for LR model of the dataframes filled with '0' calculated in A.1\n",
    "rmse_0 = round(rmse(y_val.values, y_pred_0.values), 2)\n",
    "rmse_0"
   ]
  },
  {
   "cell_type": "code",
   "execution_count": 28,
   "id": "3c31c78c",
   "metadata": {},
   "outputs": [
    {
     "data": {
      "text/plain": [
       "0.34"
      ]
     },
     "execution_count": 28,
     "metadata": {},
     "output_type": "execute_result"
    }
   ],
   "source": [
    "# RMSE for LR model of the dataframes filled with 'mean' calculated in B.1\n",
    "rmse_m = round(rmse(y_val.values, y_pred_m.values), 2)\n",
    "rmse_m"
   ]
  },
  {
   "cell_type": "markdown",
   "id": "f2e1afb5",
   "metadata": {},
   "source": [
    "- Which option gives better RMSE? = `Both are equally good`"
   ]
  },
  {
   "cell_type": "markdown",
   "id": "3f7593ac",
   "metadata": {},
   "source": [
    "## Question 4\n",
    "\n",
    "- Now let's train a regularized linear regression.\n",
    "- For this question, fill the NaNs with `0`.\n",
    "- Try different values of r from this list: `[0, 0.000001, 0.0001, 0.001, 0.01, 0.1, 1, 5, 10]`.\n",
    "- Use RMSE to evaluate the model on the validation dataset.\n",
    "- Round the RMSE scores to 2 decimal digits.\n",
    "- Which `r` gives the best RMSE? = `0`"
   ]
  },
  {
   "cell_type": "code",
   "execution_count": 29,
   "id": "d6db2d4c",
   "metadata": {},
   "outputs": [],
   "source": [
    "# Define the function to calculate the LR model\n",
    "def train_linear_regression_reg(X, y, r=0.0):\n",
    "    ones = np.ones(X.shape[0])\n",
    "    X = np.column_stack([ones, X])\n",
    "\n",
    "    XTX = X.T.dot(X)\n",
    "    XTX = XTX + r * np.eye(XTX.shape[0])\n",
    "\n",
    "    XTX_inv = np.linalg.inv(XTX)\n",
    "    w = XTX_inv.dot(X.T).dot(y)\n",
    "    \n",
    "    return w[0], w[1:]"
   ]
  },
  {
   "cell_type": "code",
   "execution_count": 30,
   "id": "4d9e5d18",
   "metadata": {
    "scrolled": true
   },
   "outputs": [
    {
     "name": "stdout",
     "output_type": "stream",
     "text": [
      "For r=0, RMSE= 0.34\n",
      "For r=1e-06, RMSE= 0.34\n",
      "For r=0.0001, RMSE= 0.34\n",
      "For r=0.001, RMSE= 0.34\n",
      "For r=0.01, RMSE= 0.34\n",
      "For r=0.1, RMSE= 0.34\n",
      "For r=1, RMSE= 0.34\n",
      "For r=5, RMSE= 0.35\n",
      "For r=10, RMSE= 0.35\n"
     ]
    }
   ],
   "source": [
    "for r in [0, 0.000001, 0.0001, 0.001, 0.01, 0.1, 1, 5, 10]:\n",
    "    w0_reg, w_reg = train_linear_regression_reg(X_train_0, y_train.values, r=r)\n",
    "    y_pred_reg = w0_reg + X_val_0.dot(w_reg)\n",
    "    error = rmse(y_val.values, y_pred_reg.values)\n",
    "    print(f'For r={r}, RMSE= {round(error,2)}')"
   ]
  },
  {
   "cell_type": "markdown",
   "id": "cacf0c6c",
   "metadata": {},
   "source": [
    "- Which `r` gives the best RMSE? = `0`"
   ]
  },
  {
   "cell_type": "markdown",
   "id": "a6087660",
   "metadata": {},
   "source": [
    "## Question 5\n",
    "\n",
    "- We used seed 42 for splitting the data. Let's find out how selecting the seed influences our score.\n",
    "- Try different seed values: `[0, 1, 2, 3, 4, 5, 6, 7, 8, 9]`.\n",
    "- For each seed, do the train/validation/test split with 60%/20%/20% distribution.\n",
    "- Fill the missing values with `0` and train a model without regularization.\n",
    "- For each seed, evaluate the model on the validation dataset and collect the RMSE scores.\n",
    "- What's the standard deviation of all the scores? To compute the standard deviation, use `np.std`.\n",
    "- Round the result to 3 decimal digits (`round(std, 3)`)\n",
    "- What's the value of std? = `0.006` -> `0.005`"
   ]
  },
  {
   "cell_type": "code",
   "execution_count": 31,
   "id": "945f0d5f",
   "metadata": {},
   "outputs": [
    {
     "name": "stdout",
     "output_type": "stream",
     "text": [
      "Seed: 0, RMSE: 0.34\n",
      "Seed: 1, RMSE: 0.34\n",
      "Seed: 2, RMSE: 0.34\n",
      "Seed: 3, RMSE: 0.33\n",
      "Seed: 4, RMSE: 0.34\n",
      "Seed: 5, RMSE: 0.34\n",
      "Seed: 6, RMSE: 0.34\n",
      "Seed: 7, RMSE: 0.35\n",
      "Seed: 8, RMSE: 0.35\n",
      "Seed: 9, RMSE: 0.33\n"
     ]
    }
   ],
   "source": [
    "errors_list = []\n",
    "\n",
    "for seed in [0, 1, 2, 3, 4, 5, 6, 7, 8, 9]:\n",
    "\n",
    "    n = len(df)\n",
    "    idx = np.arange(n)\n",
    "    np.random.seed(seed)\n",
    "    np.random.shuffle(idx)\n",
    "    df_s = df.iloc[idx]\n",
    "    \n",
    "    target = [\"median_house_value\"] # Define the target column\n",
    "\n",
    "    # Define the 'X' & 'y' dataframes\n",
    "    X = df_s.drop(labels=target, axis=1)\n",
    "    y = df_s[target]\n",
    "\n",
    "    # Define the size of split subsets, before using train_test_split function\n",
    "    len_test = 0.2\n",
    "    len_val = 0.2/(1 - len_test)\n",
    "    \n",
    "    # Use the train_test_split function of scikit-learn to split dataframes 'X' & 'y'\n",
    "    X_0, X_test, y_0, y_test_lin = train_test_split(X, y, test_size=len_test, random_state=seed, shuffle=False) \n",
    "\n",
    "    # X_0 & y_0 are then splitted into train/val subsets\n",
    "    X_train, X_val, y_train_lin, y_val_lin = train_test_split(X_0, y_0, test_size=len_val, random_state=seed, shuffle=False)\n",
    "    \n",
    "    # Reset the indexes of the subsets\n",
    "    X_train = X_train.reset_index(drop=True)\n",
    "    X_val = X_val.reset_index(drop=True)\n",
    "    X_test = X_test.reset_index(drop=True)\n",
    "    \n",
    "    # Apply np.log1p to the linear values of 'y' train/val/test\n",
    "    y_train = np.log1p(y_train_lin)\n",
    "    y_val = np.log1p(y_val_lin)\n",
    "    y_test = np.log1p(y_test_lin)\n",
    "    \n",
    "    # Fill with '0' the NaNs of the subsets\n",
    "    X_train_0 = X_train.copy()\n",
    "    X_val_0 = X_val.copy()\n",
    "    X_test_0 = X_test.copy()\n",
    "    X_train_0[\"total_bedrooms\"].fillna(value=0, inplace=True)\n",
    "    X_val_0[\"total_bedrooms\"].fillna(value=0, inplace=True)\n",
    "    X_test_0[\"total_bedrooms\"].fillna(value=0, inplace=True)\n",
    "    \n",
    "    # Calculate the LinReg model for each seed\n",
    "    w0, w = train_linear_regression(X_train_0, y_train.values)\n",
    "    y_pred_0 = w0 + X_val_0.dot(w)\n",
    "    \n",
    "    # Add the RMSE to the list\n",
    "    errors_list.append(round(rmse(y_val.values, y_pred_0.values), 2))\n",
    "    \n",
    "    print(f'Seed: {seed}, RMSE: {errors_list[seed]}')"
   ]
  },
  {
   "cell_type": "code",
   "execution_count": 32,
   "id": "4662b122",
   "metadata": {},
   "outputs": [
    {
     "data": {
      "text/plain": [
       "0.006"
      ]
     },
     "execution_count": 32,
     "metadata": {},
     "output_type": "execute_result"
    }
   ],
   "source": [
    "# Calculate the value of std for 'errors_list'\n",
    "round(np.std([errors_list]), 3)"
   ]
  },
  {
   "cell_type": "markdown",
   "id": "74e21afd",
   "metadata": {},
   "source": [
    "- What's the value of std? = `0.006` -> `0.005`"
   ]
  },
  {
   "cell_type": "markdown",
   "id": "3923a4b8",
   "metadata": {},
   "source": [
    "## Question 6\n",
    "\n",
    "- Split the dataset like previously, use seed `9`.\n",
    "- Combine train and validation datasets.\n",
    "- Fill the missing values with `0` and train a model with `r=0.001`.\n",
    "- What's the RMSE on the test dataset? = `0.33`"
   ]
  },
  {
   "cell_type": "code",
   "execution_count": 33,
   "id": "b9033e7d",
   "metadata": {},
   "outputs": [
    {
     "data": {
      "text/plain": [
       "0.33"
      ]
     },
     "execution_count": 33,
     "metadata": {},
     "output_type": "execute_result"
    }
   ],
   "source": [
    "n = len(df)\n",
    "idx = np.arange(n)\n",
    "np.random.seed(9)\n",
    "np.random.shuffle(idx)\n",
    "df_s = df.iloc[idx]\n",
    "\n",
    "target = [\"median_house_value\"] # Define the target column\n",
    "\n",
    "# Define the 'X' & 'y' dataframes\n",
    "X = df_s.drop(labels=target, axis=1)\n",
    "y = df_s[target]\n",
    "\n",
    "# Define the size of split subsets, before using train_test_split function\n",
    "len_test = 0.2\n",
    "\n",
    "# Use the train_test_split function of scikit-learn to split dataframes 'X' & 'y'\n",
    "X_train, X_test, y_train_lin, y_test_lin = train_test_split(X, y, test_size=len_test, random_state=seed, shuffle=False) \n",
    "\n",
    "# Reset the indexes of the subsets\n",
    "X_train = X_train.reset_index(drop=True)\n",
    "X_test = X_test.reset_index(drop=True)\n",
    "\n",
    "# Apply np.log1p to the linear values of 'y' train/val/test\n",
    "y_train = np.log1p(y_train_lin)\n",
    "y_test = np.log1p(y_test_lin)\n",
    "\n",
    "# Fill with '0' the NaNs of the subsets\n",
    "X_train_0 = X_train.copy()\n",
    "X_test_0 = X_test.copy()\n",
    "X_train_0[\"total_bedrooms\"].fillna(value=0, inplace=True)\n",
    "X_test_0[\"total_bedrooms\"].fillna(value=0, inplace=True)\n",
    "\n",
    "# Calculate the LinReg model for each seed\n",
    "w0, w = train_linear_regression_reg(X_train_0, y_train.values, r=0.001)\n",
    "y_pred_0 = w0 + X_val_0.dot(w)\n",
    "\n",
    "# Add the RMSE to the list\n",
    "round(rmse(y_val.values, y_pred_0.values), 2)"
   ]
  },
  {
   "cell_type": "markdown",
   "id": "9819e334",
   "metadata": {},
   "source": [
    "- What's the RMSE on the test dataset? = `0.33`"
   ]
  }
 ],
 "metadata": {
  "kernelspec": {
   "display_name": "Python 3 (ipykernel)",
   "language": "python",
   "name": "python3"
  },
  "language_info": {
   "codemirror_mode": {
    "name": "ipython",
    "version": 3
   },
   "file_extension": ".py",
   "mimetype": "text/x-python",
   "name": "python",
   "nbconvert_exporter": "python",
   "pygments_lexer": "ipython3",
   "version": "3.10.13"
  }
 },
 "nbformat": 4,
 "nbformat_minor": 5
}
